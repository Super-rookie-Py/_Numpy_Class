{
  "nbformat": 4,
  "nbformat_minor": 0,
  "metadata": {
    "colab": {
      "name": "박건우 - _NumPy 한번에 제대로 배우기.ipynb",
      "provenance": [],
      "collapsed_sections": [],
      "include_colab_link": true
    },
    "kernelspec": {
      "name": "python3",
      "display_name": "Python 3"
    }
  },
  "cells": [
    {
      "cell_type": "markdown",
      "metadata": {
        "id": "view-in-github",
        "colab_type": "text"
      },
      "source": [
        "<a href=\"https://colab.research.google.com/github/Super-rookie-Py/_Numpy_Class/blob/master/%EB%B0%95%EA%B1%B4%EC%9A%B0__NumPy_%ED%95%9C%EB%B2%88%EC%97%90_%EC%A0%9C%EB%8C%80%EB%A1%9C_%EB%B0%B0%EC%9A%B0%EA%B8%B0.ipynb\" target=\"_parent\"><img src=\"https://colab.research.google.com/assets/colab-badge.svg\" alt=\"Open In Colab\"/></a>"
      ]
    },
    {
      "cell_type": "markdown",
      "metadata": {
        "id": "J_FfQuu2Tb30",
        "colab_type": "text"
      },
      "source": [
        "# NumPy 한번에 제대로 배우기\n",
        "- keonwoo Park 2020/08/25"
      ]
    },
    {
      "cell_type": "markdown",
      "metadata": {
        "id": "Zgrrh9T2vs8u",
        "colab_type": "text"
      },
      "source": [
        "\n",
        "\n",
        "---\n",
        "\n"
      ]
    },
    {
      "cell_type": "markdown",
      "metadata": {
        "id": "oR5hNBH-Retd",
        "colab_type": "text"
      },
      "source": [
        "## NumPy 특징\n",
        "\n",
        "* Numerical Python의 약자\n",
        "* 고성능 과학 계산용 패키지로 강력한 N차원 배열 객체\n",
        "* 범용적 데이터 처리에 사용 가능한 다차원 컨테이너\n",
        "* 정교한 브로드캐스팅(broadcasting) 기능\n",
        "* 파이썬의 자료형 list와 비슷하지만, 더 빠르고 메모리를 효율적으로 관리\n",
        "* 반복문 없이 데이터 배열에 대한 처리를 지원하여 빠르고 편리\n",
        "* 데이터 과학 도구에 대한 생태계의 핵심을 이루고 있음"
      ]
    },
    {
      "cell_type": "code",
      "metadata": {
        "id": "R9klTdhLQ564",
        "colab_type": "code",
        "colab": {
          "base_uri": "https://localhost:8080/",
          "height": 34
        },
        "outputId": "a97e09fe-0ce4-488f-9b05-74c4797c937a"
      },
      "source": [
        "import numpy as np\n",
        "np.__version__"
      ],
      "execution_count": null,
      "outputs": [
        {
          "output_type": "execute_result",
          "data": {
            "application/vnd.google.colaboratory.intrinsic+json": {
              "type": "string"
            },
            "text/plain": [
              "'1.18.5'"
            ]
          },
          "metadata": {
            "tags": []
          },
          "execution_count": 2
        }
      ]
    },
    {
      "cell_type": "markdown",
      "metadata": {
        "id": "2hSWC5ptGyWP",
        "colab_type": "text"
      },
      "source": [
        "\n",
        "\n",
        "---\n",
        "\n"
      ]
    },
    {
      "cell_type": "markdown",
      "metadata": {
        "id": "1kgkJZFlVUqk",
        "colab_type": "text"
      },
      "source": [
        "## 배열 생성"
      ]
    },
    {
      "cell_type": "markdown",
      "metadata": {
        "id": "5eQ4sAkMbzm0",
        "colab_type": "text"
      },
      "source": [
        "### 리스트로 배열 만들기\n"
      ]
    },
    {
      "cell_type": "code",
      "metadata": {
        "id": "Mtod2jcPWVvV",
        "colab_type": "code",
        "colab": {
          "base_uri": "https://localhost:8080/",
          "height": 105
        },
        "outputId": "775e5b15-18c9-4fdd-9a6c-26001533b49b"
      },
      "source": [
        "a1 = np.array([1, 2, 3, 4, 5])\n",
        "print(a1)\n",
        "print(type(a1))\n",
        "print(a1.shape)\n",
        "print(a1[0], a1[1], a1[ 2], a1[3],a1[4])\n",
        "a1[0] = 4\n",
        "a1[1] = 5\n",
        "a1[2] = 6\n",
        "print(a1)"
      ],
      "execution_count": null,
      "outputs": [
        {
          "output_type": "stream",
          "text": [
            "[1 2 3 4 5]\n",
            "<class 'numpy.ndarray'>\n",
            "(5,)\n",
            "1 2 3 4 5\n",
            "[4 5 6 4 5]\n"
          ],
          "name": "stdout"
        }
      ]
    },
    {
      "cell_type": "code",
      "metadata": {
        "id": "vp9tkHH8esXT",
        "colab_type": "code",
        "colab": {
          "base_uri": "https://localhost:8080/",
          "height": 105
        },
        "outputId": "35375978-1f89-4984-eace-e7b41a342a07"
      },
      "source": [
        "a2 = np.array([[1, 2, 3],[4, 5, 6], [7, 8, 9]])\n",
        "print(a2)\n",
        "print(a2.shape)\n",
        "print(a2[0 ,0], a2[ 1, 1], a2[2, 2])"
      ],
      "execution_count": null,
      "outputs": [
        {
          "output_type": "stream",
          "text": [
            "[[1 2 3]\n",
            " [4 5 6]\n",
            " [7 8 9]]\n",
            "(3, 3)\n",
            "1 5 9\n"
          ],
          "name": "stdout"
        }
      ]
    },
    {
      "cell_type": "code",
      "metadata": {
        "id": "Baj4gZ2meuJu",
        "colab_type": "code",
        "colab": {
          "base_uri": "https://localhost:8080/",
          "height": 230
        },
        "outputId": "1112ec33-0342-4a62-835f-69701206ad05"
      },
      "source": [
        "a3 = np.array([ [ [1, 2, 3],[ 4, 5, 6], [ 7, 8, 9] ],\n",
        "               [ [1, 2, 3],[ 4, 5, 6], [ 7, 8, 9] ],\n",
        "               [ [1, 2, 3],[ 4, 5, 6], [ 7, 8, 9] ] ])\n",
        "print(a3)\n",
        "print(a3.shape)"
      ],
      "execution_count": null,
      "outputs": [
        {
          "output_type": "stream",
          "text": [
            "[[[1 2 3]\n",
            "  [4 5 6]\n",
            "  [7 8 9]]\n",
            "\n",
            " [[1 2 3]\n",
            "  [4 5 6]\n",
            "  [7 8 9]]\n",
            "\n",
            " [[1 2 3]\n",
            "  [4 5 6]\n",
            "  [7 8 9]]]\n",
            "(3, 3, 3)\n"
          ],
          "name": "stdout"
        }
      ]
    },
    {
      "cell_type": "markdown",
      "metadata": {
        "id": "PNkKtw4CoSDB",
        "colab_type": "text"
      },
      "source": [
        "### 배열 생성 및 초기화"
      ]
    },
    {
      "cell_type": "markdown",
      "metadata": {
        "id": "mJVii5p_VfgM",
        "colab_type": "text"
      },
      "source": [
        "* `zeros()`: 모든 요소를 0으로 초기화"
      ]
    },
    {
      "cell_type": "code",
      "metadata": {
        "id": "W_SF1tVoVTf1",
        "colab_type": "code",
        "colab": {
          "base_uri": "https://localhost:8080/",
          "height": 34
        },
        "outputId": "04fb5ed6-5829-4ede-ad11-303cf7f4ec45"
      },
      "source": [
        "np.zeros(10)"
      ],
      "execution_count": null,
      "outputs": [
        {
          "output_type": "execute_result",
          "data": {
            "text/plain": [
              "array([0., 0., 0., 0., 0., 0., 0., 0., 0., 0.])"
            ]
          },
          "metadata": {
            "tags": []
          },
          "execution_count": 16
        }
      ]
    },
    {
      "cell_type": "markdown",
      "metadata": {
        "id": "LjYFQrODVqhX",
        "colab_type": "text"
      },
      "source": [
        "* `ones()`: 모든 요소를 1로 초기화"
      ]
    },
    {
      "cell_type": "code",
      "metadata": {
        "id": "MURoqsMsVeUw",
        "colab_type": "code",
        "colab": {
          "base_uri": "https://localhost:8080/",
          "height": 87
        },
        "outputId": "f61ae054-4ac6-434a-efd2-14d159f43f91"
      },
      "source": [
        "print(np.ones(10))\n",
        "print(np.ones((3,3)))\n"
      ],
      "execution_count": null,
      "outputs": [
        {
          "output_type": "stream",
          "text": [
            "[1. 1. 1. 1. 1. 1. 1. 1. 1. 1.]\n",
            "[[1. 1. 1.]\n",
            " [1. 1. 1.]\n",
            " [1. 1. 1.]]\n"
          ],
          "name": "stdout"
        }
      ]
    },
    {
      "cell_type": "markdown",
      "metadata": {
        "id": "jnmm3Cj-cGtx",
        "colab_type": "text"
      },
      "source": [
        "* `full()`: 모든 요소를 지정한 값으로 초기화"
      ]
    },
    {
      "cell_type": "code",
      "metadata": {
        "id": "oscabrdcV7Ny",
        "colab_type": "code",
        "colab": {
          "base_uri": "https://localhost:8080/",
          "height": 70
        },
        "outputId": "4a55dfdb-747e-40a8-94e9-ec06ab098145"
      },
      "source": [
        "np.full((3, 3), 1.23)"
      ],
      "execution_count": null,
      "outputs": [
        {
          "output_type": "execute_result",
          "data": {
            "text/plain": [
              "array([[1.23, 1.23, 1.23],\n",
              "       [1.23, 1.23, 1.23],\n",
              "       [1.23, 1.23, 1.23]])"
            ]
          },
          "metadata": {
            "tags": []
          },
          "execution_count": 21
        }
      ]
    },
    {
      "cell_type": "markdown",
      "metadata": {
        "id": "0SRI4jbmlIKc",
        "colab_type": "text"
      },
      "source": [
        "* `eye()`: 단위행렬(identity matrix) 생성\n",
        "  + 주대각선의 원소가 모두 1이고 나머지 원소는 모두 0인 정사각 행렬"
      ]
    },
    {
      "cell_type": "code",
      "metadata": {
        "id": "VceBVLLjk9o5",
        "colab_type": "code",
        "colab": {
          "base_uri": "https://localhost:8080/",
          "height": 70
        },
        "outputId": "6be27688-938d-46da-8209-8f0361ee8306"
      },
      "source": [
        "np.eye(3)"
      ],
      "execution_count": null,
      "outputs": [
        {
          "output_type": "execute_result",
          "data": {
            "text/plain": [
              "array([[1., 0., 0.],\n",
              "       [0., 1., 0.],\n",
              "       [0., 0., 1.]])"
            ]
          },
          "metadata": {
            "tags": []
          },
          "execution_count": 22
        }
      ]
    },
    {
      "cell_type": "markdown",
      "metadata": {
        "id": "7CCH1ZMT5R02",
        "colab_type": "text"
      },
      "source": [
        "* `tri()`: 삼각행렬 생성"
      ]
    },
    {
      "cell_type": "code",
      "metadata": {
        "id": "mLe2Bhj05VYu",
        "colab_type": "code",
        "colab": {
          "base_uri": "https://localhost:8080/",
          "height": 70
        },
        "outputId": "d6775575-0af3-4eaa-a023-c8e036bf3983"
      },
      "source": [
        "np.tri(3)"
      ],
      "execution_count": null,
      "outputs": [
        {
          "output_type": "execute_result",
          "data": {
            "text/plain": [
              "array([[1., 0., 0.],\n",
              "       [1., 1., 0.],\n",
              "       [1., 1., 1.]])"
            ]
          },
          "metadata": {
            "tags": []
          },
          "execution_count": 23
        }
      ]
    },
    {
      "cell_type": "markdown",
      "metadata": {
        "id": "ObZRA4HclZlO",
        "colab_type": "text"
      },
      "source": [
        "* `empty()`: 초기화되지 않은 배열 생성\n",
        "  + 초기화가 없어서 배열 생성비용 저렴하고 빠름\n",
        "  + 초기화되지 않아서 기존 메모리 위치에 존재하는 값이 있음"
      ]
    },
    {
      "cell_type": "code",
      "metadata": {
        "id": "I3SoFgiglAkz",
        "colab_type": "code",
        "colab": {
          "base_uri": "https://localhost:8080/",
          "height": 34
        },
        "outputId": "5dc28c48-876b-448c-f5ad-ad15b1d3372e"
      },
      "source": [
        "np.empty(10)"
      ],
      "execution_count": null,
      "outputs": [
        {
          "output_type": "execute_result",
          "data": {
            "text/plain": [
              "array([1., 1., 1., 1., 1., 1., 1., 1., 1., 1.])"
            ]
          },
          "metadata": {
            "tags": []
          },
          "execution_count": 24
        }
      ]
    },
    {
      "cell_type": "markdown",
      "metadata": {
        "id": "p3uSl1Ccmi5_",
        "colab_type": "text"
      },
      "source": [
        "* `_like()`: 지정된 배열과 shape가 같은 행렬 생성\n",
        "  + `np.zeros_like()`\n",
        "  + `np.ones_like()`\n",
        "  + `np.full_like()`\n",
        "  + `np.empty_like()`"
      ]
    },
    {
      "cell_type": "code",
      "metadata": {
        "id": "Ad5RskRRlZLs",
        "colab_type": "code",
        "colab": {
          "base_uri": "https://localhost:8080/",
          "height": 52
        },
        "outputId": "5498be95-2072-4bd9-a12e-fd5a0d677ee1"
      },
      "source": [
        "print(a1)\n",
        "np.zeros_like(a1)"
      ],
      "execution_count": null,
      "outputs": [
        {
          "output_type": "stream",
          "text": [
            "[4 5 6 4 5]\n"
          ],
          "name": "stdout"
        },
        {
          "output_type": "execute_result",
          "data": {
            "text/plain": [
              "array([0, 0, 0, 0, 0])"
            ]
          },
          "metadata": {
            "tags": []
          },
          "execution_count": 26
        }
      ]
    },
    {
      "cell_type": "code",
      "metadata": {
        "id": "KChUHsG003Nf",
        "colab_type": "code",
        "colab": {
          "base_uri": "https://localhost:8080/",
          "height": 123
        },
        "outputId": "d8799e5f-4899-4744-e851-d178078a16d2"
      },
      "source": [
        "print(a2)\n",
        "np.ones_like(a2)"
      ],
      "execution_count": null,
      "outputs": [
        {
          "output_type": "stream",
          "text": [
            "[[1 2 3]\n",
            " [4 5 6]\n",
            " [7 8 9]]\n"
          ],
          "name": "stdout"
        },
        {
          "output_type": "execute_result",
          "data": {
            "text/plain": [
              "array([[1, 1, 1],\n",
              "       [1, 1, 1],\n",
              "       [1, 1, 1]])"
            ]
          },
          "metadata": {
            "tags": []
          },
          "execution_count": 28
        }
      ]
    },
    {
      "cell_type": "code",
      "metadata": {
        "id": "PUnDz6b305Gg",
        "colab_type": "code",
        "colab": {
          "base_uri": "https://localhost:8080/",
          "height": 407
        },
        "outputId": "91abd1b1-dafa-4893-9c64-c69ee8885323"
      },
      "source": [
        "print(a3)\n",
        "np.full_like(a3, 10)"
      ],
      "execution_count": null,
      "outputs": [
        {
          "output_type": "stream",
          "text": [
            "[[[1 2 3]\n",
            "  [4 5 6]\n",
            "  [7 8 9]]\n",
            "\n",
            " [[1 2 3]\n",
            "  [4 5 6]\n",
            "  [7 8 9]]\n",
            "\n",
            " [[1 2 3]\n",
            "  [4 5 6]\n",
            "  [7 8 9]]]\n"
          ],
          "name": "stdout"
        },
        {
          "output_type": "execute_result",
          "data": {
            "text/plain": [
              "array([[[10, 10, 10],\n",
              "        [10, 10, 10],\n",
              "        [10, 10, 10]],\n",
              "\n",
              "       [[10, 10, 10],\n",
              "        [10, 10, 10],\n",
              "        [10, 10, 10]],\n",
              "\n",
              "       [[10, 10, 10],\n",
              "        [10, 10, 10],\n",
              "        [10, 10, 10]]])"
            ]
          },
          "metadata": {
            "tags": []
          },
          "execution_count": 29
        }
      ]
    },
    {
      "cell_type": "markdown",
      "metadata": {
        "id": "apoksGJNrn1z",
        "colab_type": "text"
      },
      "source": [
        "### 생성한 값으로 배열 생성"
      ]
    },
    {
      "cell_type": "markdown",
      "metadata": {
        "id": "H3nmLct8cnV8",
        "colab_type": "text"
      },
      "source": [
        "* `arange()`: 정수 범위로 배열 생성"
      ]
    },
    {
      "cell_type": "code",
      "metadata": {
        "id": "mANy4WY4cDKa",
        "colab_type": "code",
        "colab": {
          "base_uri": "https://localhost:8080/",
          "height": 34
        },
        "outputId": "cf3688ea-86b9-4e57-e5a8-9cd767fda135"
      },
      "source": [
        "np.arange(0, 30, 2)"
      ],
      "execution_count": null,
      "outputs": [
        {
          "output_type": "execute_result",
          "data": {
            "text/plain": [
              "array([ 0,  2,  4,  6,  8, 10, 12, 14, 16, 18, 20, 22, 24, 26, 28])"
            ]
          },
          "metadata": {
            "tags": []
          },
          "execution_count": 30
        }
      ]
    },
    {
      "cell_type": "markdown",
      "metadata": {
        "id": "s5kET1e6itlo",
        "colab_type": "text"
      },
      "source": [
        "* `linspace()`: 범위 내에서 균등 간격의 배열 생성"
      ]
    },
    {
      "cell_type": "code",
      "metadata": {
        "id": "u4q9gI7Zcltz",
        "colab_type": "code",
        "colab": {
          "base_uri": "https://localhost:8080/",
          "height": 34
        },
        "outputId": "f63a5fb5-8103-45c9-87b3-f20d8293ccf6"
      },
      "source": [
        "np.linspace(0, 1, 5)"
      ],
      "execution_count": null,
      "outputs": [
        {
          "output_type": "execute_result",
          "data": {
            "text/plain": [
              "array([0.  , 0.25, 0.5 , 0.75, 1.  ])"
            ]
          },
          "metadata": {
            "tags": []
          },
          "execution_count": 32
        }
      ]
    },
    {
      "cell_type": "markdown",
      "metadata": {
        "id": "Eq26d7T3nnAH",
        "colab_type": "text"
      },
      "source": [
        "* `logspace()`: 범위 내에서 균등간격으로 로그 스케일로 배열 생성"
      ]
    },
    {
      "cell_type": "code",
      "metadata": {
        "id": "-O29WBVEnyXX",
        "colab_type": "code",
        "colab": {
          "base_uri": "https://localhost:8080/",
          "height": 87
        },
        "outputId": "535f0f8d-2f98-495a-acf7-b60d6564dde1"
      },
      "source": [
        "np.logspace(0.1, 1, 20)"
      ],
      "execution_count": null,
      "outputs": [
        {
          "output_type": "execute_result",
          "data": {
            "text/plain": [
              "array([ 1.25892541,  1.40400425,  1.565802  ,  1.74624535,  1.94748304,\n",
              "        2.1719114 ,  2.42220294,  2.70133812,  3.0126409 ,  3.35981829,\n",
              "        3.74700446,  4.17881006,  4.66037703,  5.19743987,  5.79639395,\n",
              "        6.46437163,  7.2093272 ,  8.04013161,  8.9666781 , 10.        ])"
            ]
          },
          "metadata": {
            "tags": []
          },
          "execution_count": 33
        }
      ]
    },
    {
      "cell_type": "markdown",
      "metadata": {
        "id": "6_88s4_Jr7fO",
        "colab_type": "text"
      },
      "source": [
        "### 랜덤값으로 배열 생성\n"
      ]
    },
    {
      "cell_type": "markdown",
      "metadata": {
        "id": "CoK1cVUkjNMg",
        "colab_type": "text"
      },
      "source": [
        "* `random.random()`: 랜덤한 수의 배열 생성"
      ]
    },
    {
      "cell_type": "code",
      "metadata": {
        "id": "qJwccKEnjMze",
        "colab_type": "code",
        "colab": {
          "base_uri": "https://localhost:8080/",
          "height": 70
        },
        "outputId": "20c610a8-9729-4911-b7bc-2597b44a3b9a"
      },
      "source": [
        "np.random.random((3, 3))"
      ],
      "execution_count": null,
      "outputs": [
        {
          "output_type": "execute_result",
          "data": {
            "text/plain": [
              "array([[0.84011843, 0.74664077, 0.0065093 ],\n",
              "       [0.90272925, 0.49607491, 0.4741373 ],\n",
              "       [0.37631747, 0.4938533 , 0.13331212]])"
            ]
          },
          "metadata": {
            "tags": []
          },
          "execution_count": 35
        }
      ]
    },
    {
      "cell_type": "markdown",
      "metadata": {
        "id": "BYsAVwA1kvDI",
        "colab_type": "text"
      },
      "source": [
        "* `random.randint()`: 일정 구간의 랜덤 정수의 배열 생성"
      ]
    },
    {
      "cell_type": "code",
      "metadata": {
        "id": "oR-UszZ_jqfQ",
        "colab_type": "code",
        "colab": {
          "base_uri": "https://localhost:8080/",
          "height": 70
        },
        "outputId": "e86b3b81-2186-4263-c264-bf307f6b0641"
      },
      "source": [
        "np.random.randint(0, 10, (3, 3))"
      ],
      "execution_count": null,
      "outputs": [
        {
          "output_type": "execute_result",
          "data": {
            "text/plain": [
              "array([[9, 8, 9],\n",
              "       [0, 3, 6],\n",
              "       [8, 5, 3]])"
            ]
          },
          "metadata": {
            "tags": []
          },
          "execution_count": 37
        }
      ]
    },
    {
      "cell_type": "markdown",
      "metadata": {
        "id": "2r557WHsjrL3",
        "colab_type": "text"
      },
      "source": [
        "* `random.normal()`: 정규분포(normal distribution)를 고려한 랜덤한 수의 배열 생성\n",
        "* 평균=0, 표준편차=1, 3 x 3 배열"
      ]
    },
    {
      "cell_type": "code",
      "metadata": {
        "id": "Oan3bSpHi2Wq",
        "colab_type": "code",
        "colab": {
          "base_uri": "https://localhost:8080/",
          "height": 70
        },
        "outputId": "d6c30429-9736-45c4-d052-86e9a95dea85"
      },
      "source": [
        "np.random.normal(0, 1, (3, 3))"
      ],
      "execution_count": null,
      "outputs": [
        {
          "output_type": "execute_result",
          "data": {
            "text/plain": [
              "array([[ 1.26177324,  0.63454948,  0.22464385],\n",
              "       [-0.34824379,  0.41892873, -0.27233512],\n",
              "       [-1.65785584, -0.02107477,  1.4105038 ]])"
            ]
          },
          "metadata": {
            "tags": []
          },
          "execution_count": 38
        }
      ]
    },
    {
      "cell_type": "markdown",
      "metadata": {
        "id": "fPO-D1rHsrFw",
        "colab_type": "text"
      },
      "source": [
        "* `random.rand()`: 균등분포(uniform distribution)를 고려한 랜덤한 수의 배열 생성"
      ]
    },
    {
      "cell_type": "code",
      "metadata": {
        "id": "DxiyEjnXnDUT",
        "colab_type": "code",
        "colab": {
          "base_uri": "https://localhost:8080/",
          "height": 70
        },
        "outputId": "45f5b701-772d-43b6-c765-86b5758c4d43"
      },
      "source": [
        "np.random.rand(3, 3)"
      ],
      "execution_count": null,
      "outputs": [
        {
          "output_type": "execute_result",
          "data": {
            "text/plain": [
              "array([[0.11153825, 0.73744824, 0.6249248 ],\n",
              "       [0.75602389, 0.77980402, 0.89051224],\n",
              "       [0.38880794, 0.06981418, 0.09939389]])"
            ]
          },
          "metadata": {
            "tags": []
          },
          "execution_count": 39
        }
      ]
    },
    {
      "cell_type": "markdown",
      "metadata": {
        "id": "IegH2dsPLQgd",
        "colab_type": "text"
      },
      "source": [
        "* `random.randn()`: 표준 정규 분포(standard normal distribution)를 고려한 랜덤한 수의 배열 생성"
      ]
    },
    {
      "cell_type": "code",
      "metadata": {
        "id": "V61VHa-JLIma",
        "colab_type": "code",
        "colab": {
          "base_uri": "https://localhost:8080/",
          "height": 70
        },
        "outputId": "8238a70f-d827-4d48-df10-23328e1b78e9"
      },
      "source": [
        "np.random.randn(3,3)"
      ],
      "execution_count": null,
      "outputs": [
        {
          "output_type": "execute_result",
          "data": {
            "text/plain": [
              "array([[-0.24474073, -0.3156353 , -1.98252506],\n",
              "       [ 0.14399412,  0.83138301, -0.52756585],\n",
              "       [ 0.90596542, -0.77220831, -1.72886087]])"
            ]
          },
          "metadata": {
            "tags": []
          },
          "execution_count": 43
        }
      ]
    },
    {
      "cell_type": "markdown",
      "metadata": {
        "id": "5ts0cYLQL_pT",
        "colab_type": "text"
      },
      "source": [
        "### 표준 데이터 타입"
      ]
    },
    {
      "cell_type": "code",
      "metadata": {
        "id": "rxqTqAFKL73y",
        "colab_type": "code",
        "colab": {
          "base_uri": "https://localhost:8080/",
          "height": 34
        },
        "outputId": "8417b32f-0d5d-47a1-e676-ae35e22eb0be"
      },
      "source": [
        "np.zeros(20, dtype=int)"
      ],
      "execution_count": null,
      "outputs": [
        {
          "output_type": "execute_result",
          "data": {
            "text/plain": [
              "array([0, 0, 0, 0, 0, 0, 0, 0, 0, 0, 0, 0, 0, 0, 0, 0, 0, 0, 0, 0])"
            ]
          },
          "metadata": {
            "tags": []
          },
          "execution_count": 44
        }
      ]
    },
    {
      "cell_type": "code",
      "metadata": {
        "id": "o9TuSl6HIsXr",
        "colab_type": "code",
        "colab": {
          "base_uri": "https://localhost:8080/",
          "height": 70
        },
        "outputId": "4f19287f-8794-4fd0-f13f-d311cfb2674f"
      },
      "source": [
        "np.ones((3, 3),dtype=bool)"
      ],
      "execution_count": null,
      "outputs": [
        {
          "output_type": "execute_result",
          "data": {
            "text/plain": [
              "array([[ True,  True,  True],\n",
              "       [ True,  True,  True],\n",
              "       [ True,  True,  True]])"
            ]
          },
          "metadata": {
            "tags": []
          },
          "execution_count": 45
        }
      ]
    },
    {
      "cell_type": "code",
      "metadata": {
        "id": "w-TciNfzEhY0",
        "colab_type": "code",
        "colab": {
          "base_uri": "https://localhost:8080/",
          "height": 70
        },
        "outputId": "b87b0f0d-7dd9-4613-cbc9-7623a2646adb"
      },
      "source": [
        "np.full((3, 3), 1.0, dtype=float)"
      ],
      "execution_count": null,
      "outputs": [
        {
          "output_type": "execute_result",
          "data": {
            "text/plain": [
              "array([[1., 1., 1.],\n",
              "       [1., 1., 1.],\n",
              "       [1., 1., 1.]])"
            ]
          },
          "metadata": {
            "tags": []
          },
          "execution_count": 46
        }
      ]
    },
    {
      "cell_type": "markdown",
      "metadata": {
        "id": "1qFumu-p-0mQ",
        "colab_type": "text"
      },
      "source": [
        "### 날짜/시간 배열 생성\n"
      ]
    },
    {
      "cell_type": "code",
      "metadata": {
        "id": "D8ozvTUf-6Rr",
        "colab_type": "code",
        "colab": {
          "base_uri": "https://localhost:8080/",
          "height": 34
        },
        "outputId": "51e9edfd-7134-4698-baa8-0c7c21c5a423"
      },
      "source": [
        "date = np.array(\"2020-01-01\", dtype = np.datetime64)\n",
        "date "
      ],
      "execution_count": null,
      "outputs": [
        {
          "output_type": "execute_result",
          "data": {
            "text/plain": [
              "array('2020-01-01', dtype='datetime64[D]')"
            ]
          },
          "metadata": {
            "tags": []
          },
          "execution_count": 48
        }
      ]
    },
    {
      "cell_type": "code",
      "metadata": {
        "id": "XIjLUkn6_K3J",
        "colab_type": "code",
        "colab": {
          "base_uri": "https://localhost:8080/",
          "height": 87
        },
        "outputId": "4984ca9d-2eca-45f9-b364-ba16a9157489"
      },
      "source": [
        "date + np.arange(12)"
      ],
      "execution_count": null,
      "outputs": [
        {
          "output_type": "execute_result",
          "data": {
            "text/plain": [
              "array(['2020-01-01', '2020-01-02', '2020-01-03', '2020-01-04',\n",
              "       '2020-01-05', '2020-01-06', '2020-01-07', '2020-01-08',\n",
              "       '2020-01-09', '2020-01-10', '2020-01-11', '2020-01-12'],\n",
              "      dtype='datetime64[D]')"
            ]
          },
          "metadata": {
            "tags": []
          },
          "execution_count": 49
        }
      ]
    },
    {
      "cell_type": "code",
      "metadata": {
        "id": "EO7yE5VR_Wlh",
        "colab_type": "code",
        "colab": {
          "base_uri": "https://localhost:8080/",
          "height": 34
        },
        "outputId": "ecb4b7b0-aff3-4b82-a4df-cbcd370e6772"
      },
      "source": [
        "datetime = np.datetime64(\"2020-08-01 12:00\")\n",
        "datetime"
      ],
      "execution_count": null,
      "outputs": [
        {
          "output_type": "execute_result",
          "data": {
            "text/plain": [
              "numpy.datetime64('2020-08-01T12:00')"
            ]
          },
          "metadata": {
            "tags": []
          },
          "execution_count": 50
        }
      ]
    },
    {
      "cell_type": "code",
      "metadata": {
        "id": "3dnOlf9i_kzX",
        "colab_type": "code",
        "colab": {
          "base_uri": "https://localhost:8080/",
          "height": 34
        },
        "outputId": "2ce395bb-adf5-4b3c-ca65-abb508fbef2a"
      },
      "source": [
        "datetime = np.datetime64(\"2020-08-01 12:00:30.345\",'ns')\n",
        "datetime"
      ],
      "execution_count": null,
      "outputs": [
        {
          "output_type": "execute_result",
          "data": {
            "text/plain": [
              "numpy.datetime64('2020-08-01T12:00:30.345000000')"
            ]
          },
          "metadata": {
            "tags": []
          },
          "execution_count": 51
        }
      ]
    },
    {
      "cell_type": "markdown",
      "metadata": {
        "id": "5AREIamhGxAr",
        "colab_type": "text"
      },
      "source": [
        "\n",
        "\n",
        "---\n",
        "\n"
      ]
    },
    {
      "cell_type": "markdown",
      "metadata": {
        "id": "d88tkTqbBE5V",
        "colab_type": "text"
      },
      "source": [
        "## 배열 조회"
      ]
    },
    {
      "cell_type": "markdown",
      "metadata": {
        "id": "vRqwfbjtFnPn",
        "colab_type": "text"
      },
      "source": [
        "### 배열 속성 정보"
      ]
    },
    {
      "cell_type": "code",
      "metadata": {
        "id": "R5Rlcll7GXrM",
        "colab_type": "code",
        "colab": {}
      },
      "source": [
        "def array_info(array):\n",
        "  print(array)\n",
        "  print(\"ndim:\", array.ndim)\n",
        "  print(\"shape:\", array.shape)\n",
        "  print(\"dtype:\",array.dtype)\n",
        "  print(\"size:\", array.size)\n",
        "  print(\"itemsize:\", array.itemsize)\n",
        "  print(\"nbytes:\", array.nbytes)\n",
        "  print(\"strides:\", array.strides)"
      ],
      "execution_count": null,
      "outputs": []
    },
    {
      "cell_type": "code",
      "metadata": {
        "id": "Na59LwA7KXZV",
        "colab_type": "code",
        "colab": {
          "base_uri": "https://localhost:8080/",
          "height": 158
        },
        "outputId": "32acd70f-d986-463e-d94d-1aad526d6415"
      },
      "source": [
        "array_info(a1)"
      ],
      "execution_count": null,
      "outputs": [
        {
          "output_type": "stream",
          "text": [
            "[4 5 6 4 5]\n",
            "ndim: 1\n",
            "shape: (5,)\n",
            "dtype: int64\n",
            "size: 5\n",
            "itemsize: 8\n",
            "nbytes: 40\n",
            "strides: (8,)\n"
          ],
          "name": "stdout"
        }
      ]
    },
    {
      "cell_type": "code",
      "metadata": {
        "id": "Urzr_LsdLah0",
        "colab_type": "code",
        "colab": {
          "base_uri": "https://localhost:8080/",
          "height": 194
        },
        "outputId": "def7c426-b4fe-4fc7-fe16-7813ed3964fd"
      },
      "source": [
        "array_info(a2)"
      ],
      "execution_count": null,
      "outputs": [
        {
          "output_type": "stream",
          "text": [
            "[[1 2 3]\n",
            " [4 5 6]\n",
            " [7 8 9]]\n",
            "ndim: 2\n",
            "shape: (3, 3)\n",
            "dtype: int64\n",
            "size: 9\n",
            "itemsize: 8\n",
            "nbytes: 72\n",
            "strides: (24, 8)\n"
          ],
          "name": "stdout"
        }
      ]
    },
    {
      "cell_type": "code",
      "metadata": {
        "id": "jktqh1lsLf4V",
        "colab_type": "code",
        "colab": {
          "base_uri": "https://localhost:8080/",
          "height": 336
        },
        "outputId": "ee6f278f-f3f0-4941-9912-5deaebd0fa69"
      },
      "source": [
        "array_info(a3)"
      ],
      "execution_count": null,
      "outputs": [
        {
          "output_type": "stream",
          "text": [
            "[[[1 2 3]\n",
            "  [4 5 6]\n",
            "  [7 8 9]]\n",
            "\n",
            " [[1 2 3]\n",
            "  [4 5 6]\n",
            "  [7 8 9]]\n",
            "\n",
            " [[1 2 3]\n",
            "  [4 5 6]\n",
            "  [7 8 9]]]\n",
            "ndim: 3\n",
            "shape: (3, 3, 3)\n",
            "dtype: int64\n",
            "size: 27\n",
            "itemsize: 8\n",
            "nbytes: 216\n",
            "strides: (72, 24, 8)\n"
          ],
          "name": "stdout"
        }
      ]
    },
    {
      "cell_type": "markdown",
      "metadata": {
        "id": "LV1WfdBWFqDu",
        "colab_type": "text"
      },
      "source": [
        "### 인덱싱(Indexing)"
      ]
    },
    {
      "cell_type": "code",
      "metadata": {
        "id": "Nyb7eDmGFr5m",
        "colab_type": "code",
        "colab": {
          "base_uri": "https://localhost:8080/",
          "height": 105
        },
        "outputId": "f57be80b-fe34-45ff-e3de-dd2bb981ec2c"
      },
      "source": [
        "print(a1)\n",
        "print(a1[0])\n",
        "print(a1[2])\n",
        "print(a1[-1])\n",
        "print(a1[-2])"
      ],
      "execution_count": null,
      "outputs": [
        {
          "output_type": "stream",
          "text": [
            "[4 5 6 4 5]\n",
            "4\n",
            "6\n",
            "5\n",
            "4\n"
          ],
          "name": "stdout"
        }
      ]
    },
    {
      "cell_type": "code",
      "metadata": {
        "id": "uHMNcQW3Kn-h",
        "colab_type": "code",
        "colab": {
          "base_uri": "https://localhost:8080/",
          "height": 141
        },
        "outputId": "fe6e361b-1c0b-44b4-86e5-4dd5d5ce5a15"
      },
      "source": [
        "print(a2)\n",
        "print(a2[0, 0])\n",
        "print(a2[0, 2])\n",
        "print(a2[1, 1])\n",
        "print(a2[2, -1])\n"
      ],
      "execution_count": null,
      "outputs": [
        {
          "output_type": "stream",
          "text": [
            "[[1 2 3]\n",
            " [4 5 6]\n",
            " [7 8 9]]\n",
            "1\n",
            "3\n",
            "5\n",
            "9\n"
          ],
          "name": "stdout"
        }
      ]
    },
    {
      "cell_type": "code",
      "metadata": {
        "id": "IX5yDMGiMxYZ",
        "colab_type": "code",
        "colab": {
          "base_uri": "https://localhost:8080/",
          "height": 283
        },
        "outputId": "f4534d77-7788-441f-df4f-9e9f48c83ccd"
      },
      "source": [
        "print(a3)\n",
        "print(a3[0, 0, 0])\n",
        "print(a3[1, 1, 1])\n",
        "print(a3[ 2, 2, 2])\n",
        "print(a3[2, -1 , -1])"
      ],
      "execution_count": null,
      "outputs": [
        {
          "output_type": "stream",
          "text": [
            "[[[1 2 3]\n",
            "  [4 5 6]\n",
            "  [7 8 9]]\n",
            "\n",
            " [[1 2 3]\n",
            "  [4 5 6]\n",
            "  [7 8 9]]\n",
            "\n",
            " [[1 2 3]\n",
            "  [4 5 6]\n",
            "  [7 8 9]]]\n",
            "1\n",
            "5\n",
            "9\n",
            "9\n"
          ],
          "name": "stdout"
        }
      ]
    },
    {
      "cell_type": "markdown",
      "metadata": {
        "id": "uSeXu2y_O4cu",
        "colab_type": "text"
      },
      "source": [
        "### 슬라이싱(Slicing)"
      ]
    },
    {
      "cell_type": "markdown",
      "metadata": {
        "id": "1hikO_6ZPp5m",
        "colab_type": "text"
      },
      "source": [
        "* 슬라이싱 구문: `a[start:stop:step]`\n",
        "* 기본값: start=0, stop=ndim, step=1"
      ]
    },
    {
      "cell_type": "code",
      "metadata": {
        "id": "PYZOOCoVO7BF",
        "colab_type": "code",
        "colab": {
          "base_uri": "https://localhost:8080/",
          "height": 123
        },
        "outputId": "94300eba-0fc6-407c-a723-f02d0f582921"
      },
      "source": [
        "print(a1)\n",
        "print(a1[0:2])\n",
        "print(a1[0:])\n",
        "print(a1[:1])\n",
        "print(a1[: :2])\n",
        "print(a1[: : -1])"
      ],
      "execution_count": null,
      "outputs": [
        {
          "output_type": "stream",
          "text": [
            "[4 5 6 4 5]\n",
            "[4 5]\n",
            "[4 5 6 4 5]\n",
            "[4]\n",
            "[4 6 5]\n",
            "[5 4 6 5 4]\n"
          ],
          "name": "stdout"
        }
      ]
    },
    {
      "cell_type": "code",
      "metadata": {
        "id": "oULOFrBQWs1G",
        "colab_type": "code",
        "colab": {
          "base_uri": "https://localhost:8080/",
          "height": 230
        },
        "outputId": "9cf4ebed-8aad-4397-964e-b2bfd7e8b2cc"
      },
      "source": [
        "print(a2)\n",
        "print(a2[1])\n",
        "print(a2[1, :])\n",
        "print(a2[:2, :2])\n",
        "print(a2[1:, :: -1])\n",
        "print(a2[::-1, ::-1])"
      ],
      "execution_count": null,
      "outputs": [
        {
          "output_type": "stream",
          "text": [
            "[[1 2 3]\n",
            " [4 5 6]\n",
            " [7 8 9]]\n",
            "[4 5 6]\n",
            "[4 5 6]\n",
            "[[1 2]\n",
            " [4 5]]\n",
            "[[6 5 4]\n",
            " [9 8 7]]\n",
            "[[9 8 7]\n",
            " [6 5 4]\n",
            " [3 2 1]]\n"
          ],
          "name": "stdout"
        }
      ]
    },
    {
      "cell_type": "markdown",
      "metadata": {
        "id": "LD52bXAsBgbH",
        "colab_type": "text"
      },
      "source": [
        "### 불리언 인덱싱(Boolean Indexing)\n",
        "\n",
        "* 배열 각 요소의 선택 여부를 불리언(True or False)로 지정\n",
        "* True 값인 인덱스의 값만 조회"
      ]
    },
    {
      "cell_type": "code",
      "metadata": {
        "id": "pOvNsH2oBgz-",
        "colab_type": "code",
        "colab": {
          "base_uri": "https://localhost:8080/",
          "height": 70
        },
        "outputId": "ca223866-de86-4149-ca95-6f5a24606b44"
      },
      "source": [
        "print(a1)\n",
        "bi = [False, True, True, False, True]\n",
        "print(a1[bi])\n",
        "bi = [True, False, True, True, False]\n",
        "print(a1[bi])"
      ],
      "execution_count": null,
      "outputs": [
        {
          "output_type": "stream",
          "text": [
            "[4 5 6 4 5]\n",
            "[5 6 5]\n",
            "[4 6 4]\n"
          ],
          "name": "stdout"
        }
      ]
    },
    {
      "cell_type": "code",
      "metadata": {
        "id": "EFfquM2kWHAU",
        "colab_type": "code",
        "colab": {
          "base_uri": "https://localhost:8080/",
          "height": 141
        },
        "outputId": "c6827b18-bd09-40e3-943a-40992a25d994"
      },
      "source": [
        "print(a2)\n",
        "bi = np.random.randint(0, 2, (3,3), dtype=bool)\n",
        "print(bi)\n",
        "print(a2[bi])"
      ],
      "execution_count": null,
      "outputs": [
        {
          "output_type": "stream",
          "text": [
            "[[1 2 3]\n",
            " [4 5 6]\n",
            " [7 8 9]]\n",
            "[[ True  True False]\n",
            " [False  True  True]\n",
            " [ True False False]]\n",
            "[1 2 5 6 7]\n"
          ],
          "name": "stdout"
        }
      ]
    },
    {
      "cell_type": "markdown",
      "metadata": {
        "id": "R5hes-hdBujH",
        "colab_type": "text"
      },
      "source": [
        "### 팬시 인덱싱(Fancy Indedxing)"
      ]
    },
    {
      "cell_type": "code",
      "metadata": {
        "id": "z-Luw5fzBx30",
        "colab_type": "code",
        "colab": {
          "base_uri": "https://localhost:8080/",
          "height": 105
        },
        "outputId": "865d947a-ad31-48e7-a9d8-9c21c7914fb1"
      },
      "source": [
        "print(a1)\n",
        "print([a1[0], a1[2]])\n",
        "ind = [0, 2]\n",
        "print(a1[ind])\n",
        "ind = np.array([[0, 1],\n",
        "                [2, 0]])\n",
        "print(a1[ind])"
      ],
      "execution_count": null,
      "outputs": [
        {
          "output_type": "stream",
          "text": [
            "[4 5 6 4 5]\n",
            "[4, 6]\n",
            "[4 6]\n",
            "[[4 5]\n",
            " [6 4]]\n"
          ],
          "name": "stdout"
        }
      ]
    },
    {
      "cell_type": "code",
      "metadata": {
        "id": "p_Dd0oiJahgj",
        "colab_type": "code",
        "colab": {
          "base_uri": "https://localhost:8080/",
          "height": 283
        },
        "outputId": "b315c3a7-9dc8-45ca-e4e8-4d5eae11afd7"
      },
      "source": [
        "print(a2)\n",
        "row = np.array([0, 2])\n",
        "col = np.array([1, 2])\n",
        "print(a2[row, col])\n",
        "print(a2[row, :])\n",
        "print(a2[:, col])\n",
        "print(a2[row, 1])\n",
        "print(a2[2, col])\n",
        "print(a2[row, 1:])\n",
        "print(a2[1:, col])"
      ],
      "execution_count": null,
      "outputs": [
        {
          "output_type": "stream",
          "text": [
            "[[1 2 3]\n",
            " [4 5 6]\n",
            " [7 8 9]]\n",
            "[2 9]\n",
            "[[1 2 3]\n",
            " [7 8 9]]\n",
            "[[2 3]\n",
            " [5 6]\n",
            " [8 9]]\n",
            "[2 8]\n",
            "[8 9]\n",
            "[[2 3]\n",
            " [8 9]]\n",
            "[[5 6]\n",
            " [8 9]]\n"
          ],
          "name": "stdout"
        }
      ]
    },
    {
      "cell_type": "code",
      "metadata": {
        "id": "YI8C5-PKpdjb",
        "colab_type": "code",
        "colab": {
          "base_uri": "https://localhost:8080/",
          "height": 52
        },
        "outputId": "7f1a3b59-e9cf-4c72-f186-f44c68dd97d4"
      },
      "source": [
        "print(row)\n",
        "print(col)"
      ],
      "execution_count": null,
      "outputs": [
        {
          "output_type": "stream",
          "text": [
            "[0 2]\n",
            "[1 2]\n"
          ],
          "name": "stdout"
        }
      ]
    },
    {
      "cell_type": "markdown",
      "metadata": {
        "id": "F71_PQF1GvTs",
        "colab_type": "text"
      },
      "source": [
        "\n",
        "\n",
        "---\n",
        "\n"
      ]
    },
    {
      "cell_type": "markdown",
      "metadata": {
        "id": "zDI5yQ58O-IX",
        "colab_type": "text"
      },
      "source": [
        "## 배열 값 삽입/수정/삭제/복사"
      ]
    },
    {
      "cell_type": "markdown",
      "metadata": {
        "id": "zajd1qpVOQYy",
        "colab_type": "text"
      },
      "source": [
        "### 배열 값 삽입\n",
        "\n",
        "* `insert()`: 배열의 특정 위치에 값 삽입\n",
        "* axis를 지정하지 않으면 1차원 배열로 변환\n",
        "* 추가할 방향을 axis로 지정\n",
        "* 원본 배열 변경없이 새로운 배열 반환"
      ]
    },
    {
      "cell_type": "code",
      "metadata": {
        "id": "sedRT54rP395",
        "colab_type": "code",
        "colab": {
          "base_uri": "https://localhost:8080/",
          "height": 70
        },
        "outputId": "97180060-434a-4de3-d3e0-ccf09e2a3804"
      },
      "source": [
        "print(a1)\n",
        "b1 = np.insert(a1, 0 , 10)\n",
        "print(b1)\n",
        "c1 = np.insert(a1, 2 , 10)\n",
        "print(c1)"
      ],
      "execution_count": null,
      "outputs": [
        {
          "output_type": "stream",
          "text": [
            "[4 5 6 4 5]\n",
            "[10  4  5  6  4  5]\n",
            "[ 4  5 10  6  4  5]\n"
          ],
          "name": "stdout"
        }
      ]
    },
    {
      "cell_type": "code",
      "metadata": {
        "id": "zNmu1E4iQ6h-",
        "colab_type": "code",
        "colab": {
          "base_uri": "https://localhost:8080/",
          "height": 194
        },
        "outputId": "08e8516d-05d1-4cb4-c415-d9935fc03577"
      },
      "source": [
        "print(a2)\n",
        "b2 = np.insert(a2, 1, 10, axis = 0)\n",
        "print(b2)\n",
        "c2 = np.insert(a2, 1, 10, axis = 1)\n",
        "print(c2)"
      ],
      "execution_count": null,
      "outputs": [
        {
          "output_type": "stream",
          "text": [
            "[[1 2 3]\n",
            " [4 5 6]\n",
            " [7 8 9]]\n",
            "[[ 1  2  3]\n",
            " [10 10 10]\n",
            " [ 4  5  6]\n",
            " [ 7  8  9]]\n",
            "[[ 1 10  2  3]\n",
            " [ 4 10  5  6]\n",
            " [ 7 10  8  9]]\n"
          ],
          "name": "stdout"
        }
      ]
    },
    {
      "cell_type": "markdown",
      "metadata": {
        "id": "OlEzG4ffNjyL",
        "colab_type": "text"
      },
      "source": [
        "### 배열 값 수정\n",
        "\n",
        "* 배열의 인덱싱으로 접근하여 값 수정"
      ]
    },
    {
      "cell_type": "code",
      "metadata": {
        "id": "ec43i1KWNjeN",
        "colab_type": "code",
        "colab": {
          "base_uri": "https://localhost:8080/",
          "height": 105
        },
        "outputId": "c6c496ed-255a-419d-d24d-e15a75cb0905"
      },
      "source": [
        "print(a1)\n",
        "a1[0] = 1\n",
        "a1[1] = 2\n",
        "a1[2] = 3\n",
        "print(a1)\n",
        "a1[:1] = 9\n",
        "print(a1)\n",
        "i = np.array([1, 3, 4])\n",
        "a1[i] = 0\n",
        "print(a1)\n",
        "a1[i] += 4\n",
        "print(a1)"
      ],
      "execution_count": null,
      "outputs": [
        {
          "output_type": "stream",
          "text": [
            "[9 0 3 0 0]\n",
            "[1 2 3 0 0]\n",
            "[9 2 3 0 0]\n",
            "[9 0 3 0 0]\n",
            "[9 4 3 4 4]\n"
          ],
          "name": "stdout"
        }
      ]
    },
    {
      "cell_type": "code",
      "metadata": {
        "id": "IApNNx3NOMQh",
        "colab_type": "code",
        "colab": {
          "base_uri": "https://localhost:8080/",
          "height": 230
        },
        "outputId": "1dcb15af-e7df-44f1-9469-24add9e72806"
      },
      "source": [
        "print(a2)\n",
        "a2[0, 0] = 1\n",
        "a2[1, 1] = 2\n",
        "a2[2, 2] = 3\n",
        "a2[0] = 1\n",
        "print(a2)\n",
        "a2[1:, 2] = 9\n",
        "print(a2)\n",
        "row = np.array([0, 1])\n",
        "col = np.array([1, 2])\n",
        "a2[row, col] = 0\n",
        "print(a2)"
      ],
      "execution_count": null,
      "outputs": [
        {
          "output_type": "stream",
          "text": [
            "[[1 1 1]\n",
            " [4 2 9]\n",
            " [7 8 9]]\n",
            "[[1 1 1]\n",
            " [4 2 9]\n",
            " [7 8 3]]\n",
            "[[1 1 1]\n",
            " [4 2 9]\n",
            " [7 8 9]]\n",
            "[[1 0 1]\n",
            " [4 2 0]\n",
            " [7 8 9]]\n"
          ],
          "name": "stdout"
        }
      ]
    },
    {
      "cell_type": "markdown",
      "metadata": {
        "id": "emV7DgrITPcn",
        "colab_type": "text"
      },
      "source": [
        "### 배열 값 삭제\n",
        "\n",
        "* `delete()`: 배열의 특정 위치에 값 삭제\n",
        "* axis를 지정하지 않으면 1차원 배열로 변환\n",
        "* 삭제할 방향을 axis로 지정\n",
        "* 원본 배열 변경없이 새로운 배열 반환"
      ]
    },
    {
      "cell_type": "code",
      "metadata": {
        "id": "I3k_Yx8lTRJ2",
        "colab_type": "code",
        "colab": {
          "base_uri": "https://localhost:8080/",
          "height": 70
        },
        "outputId": "a7eb695b-91b7-426f-8964-bd5473ee3288"
      },
      "source": [
        "print(a1)\n",
        "b1 = np.delete(a1, 1)\n",
        "print(b1)\n",
        "print(a1)"
      ],
      "execution_count": null,
      "outputs": [
        {
          "output_type": "stream",
          "text": [
            "[9 4 3 4 4]\n",
            "[9 3 4 4]\n",
            "[9 4 3 4 4]\n"
          ],
          "name": "stdout"
        }
      ]
    },
    {
      "cell_type": "code",
      "metadata": {
        "id": "tRTwMIfJTq_y",
        "colab_type": "code",
        "colab": {
          "base_uri": "https://localhost:8080/",
          "height": 158
        },
        "outputId": "eedb2ac2-e584-410a-891e-1001d87a4c56"
      },
      "source": [
        "print(a2)\n",
        "b2 = np.delete(a2, 1, axis =0)\n",
        "print(b2)\n",
        "c2 = np.delete(a2, 1, axis = 1)\n",
        "print(c2)"
      ],
      "execution_count": null,
      "outputs": [
        {
          "output_type": "stream",
          "text": [
            "[[1 0 1]\n",
            " [4 2 0]\n",
            " [7 8 9]]\n",
            "[[1 0 1]\n",
            " [7 8 9]]\n",
            "[[1 1]\n",
            " [4 0]\n",
            " [7 9]]\n"
          ],
          "name": "stdout"
        }
      ]
    },
    {
      "cell_type": "markdown",
      "metadata": {
        "id": "UydkYxV8Z6Fx",
        "colab_type": "text"
      },
      "source": [
        "### 배열 복사\n",
        "\n",
        "* 리스트 자료형과 달리 배열의 슬라이스는 복사본이 아님"
      ]
    },
    {
      "cell_type": "code",
      "metadata": {
        "id": "n2_0L8KWZ7wH",
        "colab_type": "code",
        "colab": {
          "base_uri": "https://localhost:8080/",
          "height": 230
        },
        "outputId": "2731ccf5-49a8-4302-c5db-ac33959a516b"
      },
      "source": [
        "print(a2)\n",
        "print(a2[:2, :2])\n",
        "a2_sub = a2[:2, :2]\n",
        "print(a2_sub)\n",
        "a2_sub[:,1] = 10\n",
        "print(a2_sub)\n",
        "print(a2)"
      ],
      "execution_count": null,
      "outputs": [
        {
          "output_type": "stream",
          "text": [
            "[[1 0 1]\n",
            " [4 0 0]\n",
            " [7 8 9]]\n",
            "[[1 0]\n",
            " [4 0]]\n",
            "[[1 0]\n",
            " [4 0]]\n",
            "[[ 1 10]\n",
            " [ 4 10]]\n",
            "[[ 1 10  1]\n",
            " [ 4 10  0]\n",
            " [ 7  8  9]]\n"
          ],
          "name": "stdout"
        }
      ]
    },
    {
      "cell_type": "markdown",
      "metadata": {
        "id": "UrQqOC1Eat5l",
        "colab_type": "text"
      },
      "source": [
        "\n",
        "* `copy()`: 배열이나 하위 배열 내의 값을 명시적으로 복사"
      ]
    },
    {
      "cell_type": "code",
      "metadata": {
        "id": "hLBZ7Qn6bAKO",
        "colab_type": "code",
        "colab": {
          "base_uri": "https://localhost:8080/",
          "height": 194
        },
        "outputId": "7a160d83-5681-43b4-ec31-7e2265560dbc"
      },
      "source": [
        "print(a2)\n",
        "a2_sub_copy = a2[:2 , :2].copy()\n",
        "print(a2_sub_copy)\n",
        "a2_sub_copy[:, 1] = 1\n",
        "print(a2_sub_copy)\n",
        "print(a2)"
      ],
      "execution_count": null,
      "outputs": [
        {
          "output_type": "stream",
          "text": [
            "[[ 1 10  1]\n",
            " [ 4 10  0]\n",
            " [ 7  8  9]]\n",
            "[[ 1 10]\n",
            " [ 4 10]]\n",
            "[[1 1]\n",
            " [4 1]]\n",
            "[[ 1 10  1]\n",
            " [ 4 10  0]\n",
            " [ 7  8  9]]\n"
          ],
          "name": "stdout"
        }
      ]
    },
    {
      "cell_type": "markdown",
      "metadata": {
        "id": "4HTc9FXOGtA7",
        "colab_type": "text"
      },
      "source": [
        "\n",
        "\n",
        "---\n",
        "\n"
      ]
    },
    {
      "cell_type": "markdown",
      "metadata": {
        "id": "XVZY082__yV6",
        "colab_type": "text"
      },
      "source": [
        "## 배열 변환"
      ]
    },
    {
      "cell_type": "markdown",
      "metadata": {
        "id": "Ec09aPeBO58M",
        "colab_type": "text"
      },
      "source": [
        "### 배열 전치 및 축 변경"
      ]
    },
    {
      "cell_type": "code",
      "metadata": {
        "id": "anYByBpoWZmj",
        "colab_type": "code",
        "colab": {
          "base_uri": "https://localhost:8080/",
          "height": 123
        },
        "outputId": "63fab81e-ba30-4520-dc21-813cf2cec1bc"
      },
      "source": [
        "print(a2)\n",
        "print(a2.T)"
      ],
      "execution_count": null,
      "outputs": [
        {
          "output_type": "stream",
          "text": [
            "[[ 1 10  1]\n",
            " [ 4 10  0]\n",
            " [ 7  8  9]]\n",
            "[[ 1  4  7]\n",
            " [10 10  8]\n",
            " [ 1  0  9]]\n"
          ],
          "name": "stdout"
        }
      ]
    },
    {
      "cell_type": "code",
      "metadata": {
        "id": "wg4XC6kiRnZo",
        "colab_type": "code",
        "colab": {
          "base_uri": "https://localhost:8080/",
          "height": 407
        },
        "outputId": "80fd0258-a3c1-4cf7-9f78-6d2d82ced5f2"
      },
      "source": [
        "print(a3)\n",
        "print(a3.T)"
      ],
      "execution_count": null,
      "outputs": [
        {
          "output_type": "stream",
          "text": [
            "[[[1 2 3]\n",
            "  [4 5 6]\n",
            "  [7 8 9]]\n",
            "\n",
            " [[1 2 3]\n",
            "  [4 5 6]\n",
            "  [7 8 9]]\n",
            "\n",
            " [[1 2 3]\n",
            "  [4 5 6]\n",
            "  [7 8 9]]]\n",
            "[[[1 1 1]\n",
            "  [4 4 4]\n",
            "  [7 7 7]]\n",
            "\n",
            " [[2 2 2]\n",
            "  [5 5 5]\n",
            "  [8 8 8]]\n",
            "\n",
            " [[3 3 3]\n",
            "  [6 6 6]\n",
            "  [9 9 9]]]\n"
          ],
          "name": "stdout"
        }
      ]
    },
    {
      "cell_type": "code",
      "metadata": {
        "id": "6lPwXL8rRTfI",
        "colab_type": "code",
        "colab": {
          "base_uri": "https://localhost:8080/",
          "height": 123
        },
        "outputId": "d406b8dd-d801-4e58-ad81-93194e29c97d"
      },
      "source": [
        "print(a2)\n",
        "print(a2.swapaxes(1, 0))"
      ],
      "execution_count": null,
      "outputs": [
        {
          "output_type": "stream",
          "text": [
            "[[ 1 10  1]\n",
            " [ 4 10  0]\n",
            " [ 7  8  9]]\n",
            "[[ 1  4  7]\n",
            " [10 10  8]\n",
            " [ 1  0  9]]\n"
          ],
          "name": "stdout"
        }
      ]
    },
    {
      "cell_type": "code",
      "metadata": {
        "id": "oLbEHtijRewH",
        "colab_type": "code",
        "colab": {
          "base_uri": "https://localhost:8080/",
          "height": 603
        },
        "outputId": "29d4fcb6-9ee5-4333-cfa7-cccb78dec81d"
      },
      "source": [
        "print(a3)\n",
        "print(a3.swapaxes(0,1))\n",
        "print(a3.swapaxes(1,2))"
      ],
      "execution_count": null,
      "outputs": [
        {
          "output_type": "stream",
          "text": [
            "[[[1 2 3]\n",
            "  [4 5 6]\n",
            "  [7 8 9]]\n",
            "\n",
            " [[1 2 3]\n",
            "  [4 5 6]\n",
            "  [7 8 9]]\n",
            "\n",
            " [[1 2 3]\n",
            "  [4 5 6]\n",
            "  [7 8 9]]]\n",
            "[[[1 2 3]\n",
            "  [1 2 3]\n",
            "  [1 2 3]]\n",
            "\n",
            " [[4 5 6]\n",
            "  [4 5 6]\n",
            "  [4 5 6]]\n",
            "\n",
            " [[7 8 9]\n",
            "  [7 8 9]\n",
            "  [7 8 9]]]\n",
            "[[[1 4 7]\n",
            "  [2 5 8]\n",
            "  [3 6 9]]\n",
            "\n",
            " [[1 4 7]\n",
            "  [2 5 8]\n",
            "  [3 6 9]]\n",
            "\n",
            " [[1 4 7]\n",
            "  [2 5 8]\n",
            "  [3 6 9]]]\n"
          ],
          "name": "stdout"
        }
      ]
    },
    {
      "cell_type": "markdown",
      "metadata": {
        "id": "M7xN8WdOdb_S",
        "colab_type": "text"
      },
      "source": [
        "### 배열 재구조화\n"
      ]
    },
    {
      "cell_type": "markdown",
      "metadata": {
        "id": "JwZJMpXGfY0V",
        "colab_type": "text"
      },
      "source": [
        "* `reshape()`: 배열의 형상을 변경"
      ]
    },
    {
      "cell_type": "code",
      "metadata": {
        "id": "SlGQ17VQdd8i",
        "colab_type": "code",
        "colab": {
          "base_uri": "https://localhost:8080/",
          "height": 87
        },
        "outputId": "5775c5ff-dc98-4176-8598-7f9143a371f3"
      },
      "source": [
        "n1 = np.arange(1, 10)\n",
        "print(n1)\n",
        "print(n1.reshape(3, 3))"
      ],
      "execution_count": null,
      "outputs": [
        {
          "output_type": "stream",
          "text": [
            "[1 2 3 4 5 6 7 8 9]\n",
            "[[1 2 3]\n",
            " [4 5 6]\n",
            " [7 8 9]]\n"
          ],
          "name": "stdout"
        }
      ]
    },
    {
      "cell_type": "markdown",
      "metadata": {
        "id": "y_U1W-fQfuQY",
        "colab_type": "text"
      },
      "source": [
        "* `newaxis()`: 새로운 축 추가"
      ]
    },
    {
      "cell_type": "code",
      "metadata": {
        "id": "COif_weCfkGo",
        "colab_type": "code",
        "colab": {
          "base_uri": "https://localhost:8080/",
          "height": 141
        },
        "outputId": "a7416efe-44e2-4289-ec0e-c869328a5241"
      },
      "source": [
        "print(n1)\n",
        "print(n1[np.newaxis, : 5])\n",
        "print(n1[:5, np.newaxis])"
      ],
      "execution_count": null,
      "outputs": [
        {
          "output_type": "stream",
          "text": [
            "[1 2 3 4 5 6 7 8 9]\n",
            "[[1 2 3 4 5]]\n",
            "[[1]\n",
            " [2]\n",
            " [3]\n",
            " [4]\n",
            " [5]]\n"
          ],
          "name": "stdout"
        }
      ]
    },
    {
      "cell_type": "markdown",
      "metadata": {
        "id": "FR82RSDggbcJ",
        "colab_type": "text"
      },
      "source": [
        "### 배열 크기 변경"
      ]
    },
    {
      "cell_type": "markdown",
      "metadata": {
        "id": "D1LuDMVFl4tc",
        "colab_type": "text"
      },
      "source": [
        "* 배열 모양만 변경"
      ]
    },
    {
      "cell_type": "code",
      "metadata": {
        "id": "7B6pHlfxgdSJ",
        "colab_type": "code",
        "colab": {
          "base_uri": "https://localhost:8080/",
          "height": 141
        },
        "outputId": "23f1efdf-b9aa-4f5d-d6b2-26a1f65ba7a1"
      },
      "source": [
        "n2 = np.random.randint(0, 10, (2, 5))\n",
        "print(n2)\n",
        "n2.resize(5, 2)\n",
        "print(n2)"
      ],
      "execution_count": null,
      "outputs": [
        {
          "output_type": "stream",
          "text": [
            "[[3 4 4 9 2]\n",
            " [4 6 9 9 4]]\n",
            "[[3 4]\n",
            " [4 9]\n",
            " [2 4]\n",
            " [6 9]\n",
            " [9 4]]\n"
          ],
          "name": "stdout"
        }
      ]
    },
    {
      "cell_type": "markdown",
      "metadata": {
        "id": "s0adm-h9l6sv",
        "colab_type": "text"
      },
      "source": [
        "* 배열 크기 증가\n",
        "* 남은 공간은 0으로 채워짐"
      ]
    },
    {
      "cell_type": "code",
      "metadata": {
        "id": "IrX0UcjrlWRV",
        "colab_type": "code",
        "colab": {
          "base_uri": "https://localhost:8080/",
          "height": 105
        },
        "outputId": "52e519b1-4f20-4c08-c083-1e4c48e7b689"
      },
      "source": [
        "n2.resize((5, 5))\n",
        "print(n2)"
      ],
      "execution_count": null,
      "outputs": [
        {
          "output_type": "stream",
          "text": [
            "[[4 4 2 5 2]\n",
            " [3 8 2 2 1]\n",
            " [0 0 0 0 0]\n",
            " [0 0 0 0 0]\n",
            " [0 0 0 0 0]]\n"
          ],
          "name": "stdout"
        }
      ]
    },
    {
      "cell_type": "markdown",
      "metadata": {
        "id": "78hPDEzfl9JB",
        "colab_type": "text"
      },
      "source": [
        "* 배열 크기 감소\n",
        "* 포함되지 않은 값은 삭제됨"
      ]
    },
    {
      "cell_type": "code",
      "metadata": {
        "id": "fJWrwhc6lmjW",
        "colab_type": "code",
        "colab": {
          "base_uri": "https://localhost:8080/",
          "height": 70
        },
        "outputId": "705cf765-e58d-4adf-b566-952ef5db447e"
      },
      "source": [
        "n2.resize((3,3))\n",
        "print(n2)"
      ],
      "execution_count": null,
      "outputs": [
        {
          "output_type": "stream",
          "text": [
            "[[4 4 2]\n",
            " [5 2 3]\n",
            " [8 2 2]]\n"
          ],
          "name": "stdout"
        }
      ]
    },
    {
      "cell_type": "markdown",
      "metadata": {
        "id": "r9z2gD_pHyx9",
        "colab_type": "text"
      },
      "source": [
        "### 배열 추가\n",
        "\n",
        "* `append()`: 배열의 끝에 값 추가"
      ]
    },
    {
      "cell_type": "code",
      "metadata": {
        "id": "fH4lpQKNH5s1",
        "colab_type": "code",
        "colab": {
          "base_uri": "https://localhost:8080/",
          "height": 123
        },
        "outputId": "d458ed6b-f57f-4b27-f180-66655c794306"
      },
      "source": [
        "a2 = np.arange(1, 10).reshape(3, 3)\n",
        "print(a2)\n",
        "b2 = np.arange(10, 19).reshape(3, 3)\n",
        "print(b2)"
      ],
      "execution_count": null,
      "outputs": [
        {
          "output_type": "stream",
          "text": [
            "[[1 2 3]\n",
            " [4 5 6]\n",
            " [7 8 9]]\n",
            "[[10 11 12]\n",
            " [13 14 15]\n",
            " [16 17 18]]\n"
          ],
          "name": "stdout"
        }
      ]
    },
    {
      "cell_type": "markdown",
      "metadata": {
        "id": "n8SMl5VVIquk",
        "colab_type": "text"
      },
      "source": [
        "* axis 지정이 없으면 1차원 배열 형태로 변형되어 결합"
      ]
    },
    {
      "cell_type": "code",
      "metadata": {
        "id": "LRltk3yFIVsV",
        "colab_type": "code",
        "colab": {
          "base_uri": "https://localhost:8080/",
          "height": 34
        },
        "outputId": "0027dfa8-e0e0-450c-c62f-6d4970f09950"
      },
      "source": [
        "c2 = np.append(a2, b2)\n",
        "print(c2)"
      ],
      "execution_count": null,
      "outputs": [
        {
          "output_type": "stream",
          "text": [
            "[ 1  2  3  4  5  6  7  8  9 10 11 12 13 14 15 16 17 18]\n"
          ],
          "name": "stdout"
        }
      ]
    },
    {
      "cell_type": "markdown",
      "metadata": {
        "id": "sVW2UFVZJfpR",
        "colab_type": "text"
      },
      "source": [
        "* axis를 0으로 지정\n",
        "* shape[0]을 제외한 나머지 shape은 같아야 함"
      ]
    },
    {
      "cell_type": "code",
      "metadata": {
        "id": "nwJ4xLOeIbMg",
        "colab_type": "code",
        "colab": {
          "base_uri": "https://localhost:8080/",
          "height": 123
        },
        "outputId": "264d2a1c-ec3f-4fde-d5bf-5baa446eb90a"
      },
      "source": [
        "c2 = np.append(a2, b2, axis = 0)\n",
        "print(c2)"
      ],
      "execution_count": null,
      "outputs": [
        {
          "output_type": "stream",
          "text": [
            "[[ 1  2  3]\n",
            " [ 4  5  6]\n",
            " [ 7  8  9]\n",
            " [10 11 12]\n",
            " [13 14 15]\n",
            " [16 17 18]]\n"
          ],
          "name": "stdout"
        }
      ]
    },
    {
      "cell_type": "markdown",
      "metadata": {
        "id": "4YXxzygaJmj-",
        "colab_type": "text"
      },
      "source": [
        "* axis를 1로 지정\n",
        "* shape[1]을 제외한 나머지 shape은 같아야 함"
      ]
    },
    {
      "cell_type": "code",
      "metadata": {
        "id": "JYE4_5gAJmYe",
        "colab_type": "code",
        "colab": {
          "base_uri": "https://localhost:8080/",
          "height": 70
        },
        "outputId": "5d843e92-5eaa-438b-95e8-8137bb1ca7ae"
      },
      "source": [
        "c2 = np.append(a2, b2, axis = 1)\n",
        "print(c2)"
      ],
      "execution_count": null,
      "outputs": [
        {
          "output_type": "stream",
          "text": [
            "[[ 1  2  3 10 11 12]\n",
            " [ 4  5  6 13 14 15]\n",
            " [ 7  8  9 16 17 18]]\n"
          ],
          "name": "stdout"
        }
      ]
    },
    {
      "cell_type": "markdown",
      "metadata": {
        "id": "9sTza3b2hoe4",
        "colab_type": "text"
      },
      "source": [
        "### 배열 연결"
      ]
    },
    {
      "cell_type": "markdown",
      "metadata": {
        "id": "TRun2NPYj8Ct",
        "colab_type": "text"
      },
      "source": [
        "* `concatenate()`: 튜플이나 배열의 리스트를 인수로 사용해 배열 연결"
      ]
    },
    {
      "cell_type": "code",
      "metadata": {
        "id": "lmEqdPifhrB_",
        "colab_type": "code",
        "colab": {
          "base_uri": "https://localhost:8080/",
          "height": 34
        },
        "outputId": "2547718d-972a-4805-e4d5-16cf50cba643"
      },
      "source": [
        "a1 = np.array([1, 3 , 5])\n",
        "b1 = np.array([2, 4, 6])\n",
        "np.concatenate([a1, b1])"
      ],
      "execution_count": null,
      "outputs": [
        {
          "output_type": "execute_result",
          "data": {
            "text/plain": [
              "array([1, 3, 5, 2, 4, 6])"
            ]
          },
          "metadata": {
            "tags": []
          },
          "execution_count": 124
        }
      ]
    },
    {
      "cell_type": "code",
      "metadata": {
        "id": "IkoTNIt2k0tp",
        "colab_type": "code",
        "colab": {
          "base_uri": "https://localhost:8080/",
          "height": 34
        },
        "outputId": "3b27580f-f58c-4f92-a11a-c2d8fd611bee"
      },
      "source": [
        "c1 = np.array([7, 8, 9])\n",
        "np.concatenate([a1, b1, c1])"
      ],
      "execution_count": null,
      "outputs": [
        {
          "output_type": "execute_result",
          "data": {
            "text/plain": [
              "array([1, 3, 5, 2, 4, 6, 7, 8, 9])"
            ]
          },
          "metadata": {
            "tags": []
          },
          "execution_count": 125
        }
      ]
    },
    {
      "cell_type": "code",
      "metadata": {
        "id": "vX0SCYX3lEs2",
        "colab_type": "code",
        "colab": {
          "base_uri": "https://localhost:8080/",
          "height": 87
        },
        "outputId": "322a3130-38c2-4386-eb93-2d374ccbba7c"
      },
      "source": [
        "a2 = np.array([[1, 2, 3],\n",
        "              [4, 5, 6]])\n",
        "np.concatenate([a2, a2])"
      ],
      "execution_count": null,
      "outputs": [
        {
          "output_type": "execute_result",
          "data": {
            "text/plain": [
              "array([[1, 2, 3],\n",
              "       [4, 5, 6],\n",
              "       [1, 2, 3],\n",
              "       [4, 5, 6]])"
            ]
          },
          "metadata": {
            "tags": []
          },
          "execution_count": 127
        }
      ]
    },
    {
      "cell_type": "code",
      "metadata": {
        "id": "Rv6xGva7lxHP",
        "colab_type": "code",
        "colab": {
          "base_uri": "https://localhost:8080/",
          "height": 52
        },
        "outputId": "c4e36920-2be1-43ac-e555-238a4eafdf21"
      },
      "source": [
        "a2 = np.array([[1,2,3],\n",
        "               [4, 5, 6]])\n",
        "np.concatenate([a2, a2], axis=1)"
      ],
      "execution_count": null,
      "outputs": [
        {
          "output_type": "execute_result",
          "data": {
            "text/plain": [
              "array([[1, 2, 3, 1, 2, 3],\n",
              "       [4, 5, 6, 4, 5, 6]])"
            ]
          },
          "metadata": {
            "tags": []
          },
          "execution_count": 128
        }
      ]
    },
    {
      "cell_type": "markdown",
      "metadata": {
        "id": "MbiBbx4nl2KD",
        "colab_type": "text"
      },
      "source": [
        "* `vstack()`: 수직 스택(vertical stack), 1차원으로 연결"
      ]
    },
    {
      "cell_type": "code",
      "metadata": {
        "id": "HkHJwdBMl_qi",
        "colab_type": "code",
        "colab": {
          "base_uri": "https://localhost:8080/",
          "height": 87
        },
        "outputId": "8c526a8c-9d92-4cd0-8e34-70679ba6379d"
      },
      "source": [
        "np.vstack([a2, a2])"
      ],
      "execution_count": null,
      "outputs": [
        {
          "output_type": "execute_result",
          "data": {
            "text/plain": [
              "array([[1, 2, 3],\n",
              "       [4, 5, 6],\n",
              "       [1, 2, 3],\n",
              "       [4, 5, 6]])"
            ]
          },
          "metadata": {
            "tags": []
          },
          "execution_count": 129
        }
      ]
    },
    {
      "cell_type": "markdown",
      "metadata": {
        "id": "-hTlAnWxmHA_",
        "colab_type": "text"
      },
      "source": [
        "* `hstack()`: 수평 스택(horizontal stack), 2차원으로 연결"
      ]
    },
    {
      "cell_type": "code",
      "metadata": {
        "id": "-HsGlAytmNEz",
        "colab_type": "code",
        "colab": {
          "base_uri": "https://localhost:8080/",
          "height": 52
        },
        "outputId": "7104418a-fbdd-4dc9-f080-45b662b0ab96"
      },
      "source": [
        "np.hstack([a2, a2])"
      ],
      "execution_count": null,
      "outputs": [
        {
          "output_type": "execute_result",
          "data": {
            "text/plain": [
              "array([[1, 2, 3, 1, 2, 3],\n",
              "       [4, 5, 6, 4, 5, 6]])"
            ]
          },
          "metadata": {
            "tags": []
          },
          "execution_count": 130
        }
      ]
    },
    {
      "cell_type": "markdown",
      "metadata": {
        "id": "CshM6LURmUhV",
        "colab_type": "text"
      },
      "source": [
        "* `dstack()`: 깊이 스택(depth stack), 3차원으로 연결"
      ]
    },
    {
      "cell_type": "code",
      "metadata": {
        "id": "TFBdRddpmU4m",
        "colab_type": "code",
        "colab": {
          "base_uri": "https://localhost:8080/",
          "height": 141
        },
        "outputId": "45291f09-5d6d-4908-c977-87cde5a42401"
      },
      "source": [
        "np.dstack([a2, a2])"
      ],
      "execution_count": null,
      "outputs": [
        {
          "output_type": "execute_result",
          "data": {
            "text/plain": [
              "array([[[1, 1],\n",
              "        [2, 2],\n",
              "        [3, 3]],\n",
              "\n",
              "       [[4, 4],\n",
              "        [5, 5],\n",
              "        [6, 6]]])"
            ]
          },
          "metadata": {
            "tags": []
          },
          "execution_count": 131
        }
      ]
    },
    {
      "cell_type": "markdown",
      "metadata": {
        "id": "JUBtc4UnpaSz",
        "colab_type": "text"
      },
      "source": [
        "* `stack()`: 새로운 차원으로 연결"
      ]
    },
    {
      "cell_type": "code",
      "metadata": {
        "id": "JzoujQ9_pHS5",
        "colab_type": "code",
        "colab": {
          "base_uri": "https://localhost:8080/",
          "height": 105
        },
        "outputId": "329c653c-2bbf-4e48-dc6e-adfc73bc0179"
      },
      "source": [
        "np.stack([a2, a2])"
      ],
      "execution_count": null,
      "outputs": [
        {
          "output_type": "execute_result",
          "data": {
            "text/plain": [
              "array([[[1, 2, 3],\n",
              "        [4, 5, 6]],\n",
              "\n",
              "       [[1, 2, 3],\n",
              "        [4, 5, 6]]])"
            ]
          },
          "metadata": {
            "tags": []
          },
          "execution_count": 132
        }
      ]
    },
    {
      "cell_type": "markdown",
      "metadata": {
        "id": "eYz74NYKo8iH",
        "colab_type": "text"
      },
      "source": [
        "### 배열 분할"
      ]
    },
    {
      "cell_type": "markdown",
      "metadata": {
        "id": "wjt2zku5pBmF",
        "colab_type": "text"
      },
      "source": [
        "* `split()`: 배열 분할"
      ]
    },
    {
      "cell_type": "code",
      "metadata": {
        "id": "H_2e71heo-Eq",
        "colab_type": "code",
        "colab": {
          "base_uri": "https://localhost:8080/",
          "height": 70
        },
        "outputId": "dc1e3654-aee2-4653-9e8c-b8dd1fadc951"
      },
      "source": [
        "a1 = np.arange(0,10)\n",
        "print(a1)\n",
        "b1, c1= np.split(a1, [5])\n",
        "print(b1, c1)\n",
        "b1, c1, d1, e1, f1 = np.split(a1, [2, 4, 6, 8])\n",
        "print(b1, c1, d1, e1, f1)"
      ],
      "execution_count": null,
      "outputs": [
        {
          "output_type": "stream",
          "text": [
            "[0 1 2 3 4 5 6 7 8 9]\n",
            "[0 1 2 3 4] [5 6 7 8 9]\n",
            "[0 1] [2 3] [4 5] [6 7] [8 9]\n"
          ],
          "name": "stdout"
        }
      ]
    },
    {
      "cell_type": "markdown",
      "metadata": {
        "id": "IvvdCQcKsCLn",
        "colab_type": "text"
      },
      "source": [
        "* `vsplit()`: 수직 분할, 1차원으로 분할"
      ]
    },
    {
      "cell_type": "code",
      "metadata": {
        "id": "GdMYlsiLsCoe",
        "colab_type": "code",
        "colab": {
          "base_uri": "https://localhost:8080/",
          "height": 123
        },
        "outputId": "89ba1372-39dc-4995-886c-bacff0f55f64"
      },
      "source": [
        "a2 = np.arange(1, 10).reshape(3, 3)\n",
        "print(a2)\n",
        "b2, c2 = np.vsplit(a2, [2])\n",
        "print(b2)\n",
        "print(c2)"
      ],
      "execution_count": null,
      "outputs": [
        {
          "output_type": "stream",
          "text": [
            "[[1 2 3]\n",
            " [4 5 6]\n",
            " [7 8 9]]\n",
            "[[1 2 3]\n",
            " [4 5 6]]\n",
            "[[7 8 9]]\n"
          ],
          "name": "stdout"
        }
      ]
    },
    {
      "cell_type": "markdown",
      "metadata": {
        "id": "1aC0a034rSXi",
        "colab_type": "text"
      },
      "source": [
        "* `hsplit()`: 수평 분할, 2차원으로 분할"
      ]
    },
    {
      "cell_type": "code",
      "metadata": {
        "id": "ShMnE_bnrSBJ",
        "colab_type": "code",
        "colab": {
          "base_uri": "https://localhost:8080/",
          "height": 176
        },
        "outputId": "135d6c24-4b1e-4db9-d25c-377cbdab87bb"
      },
      "source": [
        "a2 = np.arange(1, 10).reshape(3, 3)\n",
        "print(a2)\n",
        "b2, c2 = np.hsplit(a2, [2])\n",
        "print(b2)\n",
        "print(c2)"
      ],
      "execution_count": null,
      "outputs": [
        {
          "output_type": "stream",
          "text": [
            "[[1 2 3]\n",
            " [4 5 6]\n",
            " [7 8 9]]\n",
            "[[1 2]\n",
            " [4 5]\n",
            " [7 8]]\n",
            "[[3]\n",
            " [6]\n",
            " [9]]\n"
          ],
          "name": "stdout"
        }
      ]
    },
    {
      "cell_type": "markdown",
      "metadata": {
        "id": "Pz3BDD8qsQER",
        "colab_type": "text"
      },
      "source": [
        "* `dsplit()`: 깊이 분할, 3차원으로 분할"
      ]
    },
    {
      "cell_type": "code",
      "metadata": {
        "id": "DqHFGd43sQYj",
        "colab_type": "code",
        "colab": {
          "base_uri": "https://localhost:8080/",
          "height": 603
        },
        "outputId": "df09826d-2762-4c54-b320-46fedc5ad42a"
      },
      "source": [
        "a3 = np.arange(1, 28).reshape(3, 3, 3)\n",
        "print(a3)\n",
        "b3, c3 = np.dsplit(a3, [2])\n",
        "print(b3)\n",
        "print(c3)"
      ],
      "execution_count": null,
      "outputs": [
        {
          "output_type": "stream",
          "text": [
            "[[[ 1  2  3]\n",
            "  [ 4  5  6]\n",
            "  [ 7  8  9]]\n",
            "\n",
            " [[10 11 12]\n",
            "  [13 14 15]\n",
            "  [16 17 18]]\n",
            "\n",
            " [[19 20 21]\n",
            "  [22 23 24]\n",
            "  [25 26 27]]]\n",
            "[[[ 1  2]\n",
            "  [ 4  5]\n",
            "  [ 7  8]]\n",
            "\n",
            " [[10 11]\n",
            "  [13 14]\n",
            "  [16 17]]\n",
            "\n",
            " [[19 20]\n",
            "  [22 23]\n",
            "  [25 26]]]\n",
            "[[[ 3]\n",
            "  [ 6]\n",
            "  [ 9]]\n",
            "\n",
            " [[12]\n",
            "  [15]\n",
            "  [18]]\n",
            "\n",
            " [[21]\n",
            "  [24]\n",
            "  [27]]]\n"
          ],
          "name": "stdout"
        }
      ]
    },
    {
      "cell_type": "markdown",
      "metadata": {
        "id": "rK-zrDZuGoVd",
        "colab_type": "text"
      },
      "source": [
        "\n",
        "\n",
        "---\n",
        "\n"
      ]
    },
    {
      "cell_type": "markdown",
      "metadata": {
        "id": "Vc-iSWewJ3C1",
        "colab_type": "text"
      },
      "source": [
        "## 배열 연산\n",
        "\n",
        "* NumPy의 배열 연산은 벡터화(vectorized) 연산을 사용\n",
        "* 일반적으로 NumPy의 범용 함수(universal functions)를 통해 구현\n",
        "* 배열 요소에 대한 반복적인 계산을 효율적으로 수행"
      ]
    },
    {
      "cell_type": "markdown",
      "metadata": {
        "id": "Pg2er1A2w3cz",
        "colab_type": "text"
      },
      "source": [
        "### 브로드캐스팅(Broadcasting)"
      ]
    },
    {
      "cell_type": "code",
      "metadata": {
        "id": "IGU-HRgr20nj",
        "colab_type": "code",
        "colab": {
          "base_uri": "https://localhost:8080/",
          "height": 52
        },
        "outputId": "2326063d-e86a-428c-bf30-331971aebd6b"
      },
      "source": [
        "a1 = np.array([1, 2, 3])\n",
        "print(a1)\n",
        "print(a1 + 5)"
      ],
      "execution_count": null,
      "outputs": [
        {
          "output_type": "stream",
          "text": [
            "[1 2 3]\n",
            "[6 7 8]\n"
          ],
          "name": "stdout"
        }
      ]
    },
    {
      "cell_type": "code",
      "metadata": {
        "id": "IAzsmIAn1HNt",
        "colab_type": "code",
        "colab": {
          "base_uri": "https://localhost:8080/",
          "height": 230
        },
        "outputId": "20cfd18f-200d-4a53-d8d9-be03e67e6cd6"
      },
      "source": [
        "a2 = np.arange(1, 10).reshape(3, 3)\n",
        "print(a2)\n",
        "print(a2 + a1)\n",
        "\n",
        "b2 = np.array([1, 2, 3]).reshape(3, 1)\n",
        "print(b2)\n",
        "print(a1 + b2)"
      ],
      "execution_count": null,
      "outputs": [
        {
          "output_type": "stream",
          "text": [
            "[[1 2 3]\n",
            " [4 5 6]\n",
            " [7 8 9]]\n",
            "[[ 2  4  6]\n",
            " [ 5  7  9]\n",
            " [ 8 10 12]]\n",
            "[[1]\n",
            " [2]\n",
            " [3]]\n",
            "[[2 3 4]\n",
            " [3 4 5]\n",
            " [4 5 6]]\n"
          ],
          "name": "stdout"
        }
      ]
    },
    {
      "cell_type": "markdown",
      "metadata": {
        "id": "NZzLHHLmwl_b",
        "colab_type": "text"
      },
      "source": [
        "### 산술 연산(Arithmetic Operators)"
      ]
    },
    {
      "cell_type": "code",
      "metadata": {
        "id": "jHrIjHGEi05k",
        "colab_type": "code",
        "colab": {
          "base_uri": "https://localhost:8080/",
          "height": 318
        },
        "outputId": "ca3082d9-4154-448a-fffe-f990b66ec35b"
      },
      "source": [
        "a1 = np.arange(1, 10)\n",
        "print(a1)\n",
        "print(a1 + 1)\n",
        "print(np.add(a1, 10))\n",
        "print(a1 - 2)\n",
        "print(np.subtract(a1, 10))\n",
        "print(-a1)\n",
        "print(np.negative(a1))\n",
        "print(a1 * 2)\n",
        "print(np.multiply(a1, 2))\n",
        "print(a1 / 2)\n",
        "print(np.divide(a1, 2))\n",
        "print(a1 // 2)\n",
        "print(np.floor_divide(a1, 2))\n",
        "print(a1 ** 2)\n",
        "print(np.power(a1, 2))\n",
        "print(np.mod(a1, 2))\n",
        "print(a1 % 2)"
      ],
      "execution_count": null,
      "outputs": [
        {
          "output_type": "stream",
          "text": [
            "[1 2 3 4 5 6 7 8 9]\n",
            "[ 2  3  4  5  6  7  8  9 10]\n",
            "[11 12 13 14 15 16 17 18 19]\n",
            "[-1  0  1  2  3  4  5  6  7]\n",
            "[-9 -8 -7 -6 -5 -4 -3 -2 -1]\n",
            "[-1 -2 -3 -4 -5 -6 -7 -8 -9]\n",
            "[-1 -2 -3 -4 -5 -6 -7 -8 -9]\n",
            "[ 2  4  6  8 10 12 14 16 18]\n",
            "[ 2  4  6  8 10 12 14 16 18]\n",
            "[0.5 1.  1.5 2.  2.5 3.  3.5 4.  4.5]\n",
            "[0.5 1.  1.5 2.  2.5 3.  3.5 4.  4.5]\n",
            "[0 1 1 2 2 3 3 4 4]\n",
            "[0 1 1 2 2 3 3 4 4]\n",
            "[ 1  4  9 16 25 36 49 64 81]\n",
            "[ 1  4  9 16 25 36 49 64 81]\n",
            "[1 0 1 0 1 0 1 0 1]\n",
            "[1 0 1 0 1 0 1 0 1]\n"
          ],
          "name": "stdout"
        }
      ]
    },
    {
      "cell_type": "code",
      "metadata": {
        "id": "sMUYzXk3psgC",
        "colab_type": "code",
        "colab": {
          "base_uri": "https://localhost:8080/",
          "height": 194
        },
        "outputId": "699b56b8-733e-471f-ab4d-e59ee85bb75c"
      },
      "source": [
        "a1 = np.arange(1, 10)\n",
        "print(a1)\n",
        "b1 = np.random.randint(1, 10, size = 9)\n",
        "print(b1)\n",
        "print(a1 + b1)\n",
        "print(a1 - b1)\n",
        "print(a1 * b1)\n",
        "print(a1 / b1)\n",
        "print(a1 // b1)\n",
        "print(a1 ** b1)\n",
        "print(a1 % b1)"
      ],
      "execution_count": null,
      "outputs": [
        {
          "output_type": "stream",
          "text": [
            "[1 2 3 4 5 6 7 8 9]\n",
            "[9 8 5 9 8 1 8 3 4]\n",
            "[10 10  8 13 13  7 15 11 13]\n",
            "[-8 -6 -2 -5 -3  5 -1  5  5]\n",
            "[ 9 16 15 36 40  6 56 24 36]\n",
            "[0.11111111 0.25       0.6        0.44444444 0.625      6.\n",
            " 0.875      2.66666667 2.25      ]\n",
            "[0 0 0 0 0 6 0 2 2]\n",
            "[      1     256     243  262144  390625       6 5764801     512    6561]\n",
            "[1 2 3 4 5 0 7 2 1]\n"
          ],
          "name": "stdout"
        }
      ]
    },
    {
      "cell_type": "code",
      "metadata": {
        "id": "ZkyjPmk5onPK",
        "colab_type": "code",
        "colab": {
          "base_uri": "https://localhost:8080/",
          "height": 496
        },
        "outputId": "6f7a3cd1-e3e2-4aed-8f82-59ceec02161b"
      },
      "source": [
        "a2 = np.arange(1, 10).reshape(3, 3)\n",
        "print(a2)\n",
        "b2 = np.random.randint(1, 10, size=(3, 3))\n",
        "print(b2)\n",
        "print(a2 + b2)\n",
        "print(a2 - b2)\n",
        "print(a2 * b2)\n",
        "print(a2 / b2)\n",
        "print(a2 // b2)\n",
        "print(a2 ** b2)\n",
        "print(a2 % b2)"
      ],
      "execution_count": null,
      "outputs": [
        {
          "output_type": "stream",
          "text": [
            "[[1 2 3]\n",
            " [4 5 6]\n",
            " [7 8 9]]\n",
            "[[1 2 4]\n",
            " [7 4 4]\n",
            " [3 1 2]]\n",
            "[[ 2  4  7]\n",
            " [11  9 10]\n",
            " [10  9 11]]\n",
            "[[ 0  0 -1]\n",
            " [-3  1  2]\n",
            " [ 4  7  7]]\n",
            "[[ 1  4 12]\n",
            " [28 20 24]\n",
            " [21  8 18]]\n",
            "[[1.         1.         0.75      ]\n",
            " [0.57142857 1.25       1.5       ]\n",
            " [2.33333333 8.         4.5       ]]\n",
            "[[1 1 0]\n",
            " [0 1 1]\n",
            " [2 8 4]]\n",
            "[[    1     4    81]\n",
            " [16384   625  1296]\n",
            " [  343     8    81]]\n",
            "[[0 0 3]\n",
            " [4 1 2]\n",
            " [1 0 1]]\n"
          ],
          "name": "stdout"
        }
      ]
    },
    {
      "cell_type": "markdown",
      "metadata": {
        "id": "hxG_aECas3a9",
        "colab_type": "text"
      },
      "source": [
        "#### 절대값 함수(Absolute Function)\n",
        "\n",
        "* `absolute()`, `abs()`: 내장된 절대값 함수"
      ]
    },
    {
      "cell_type": "code",
      "metadata": {
        "id": "YmX-0LvWs7qM",
        "colab_type": "code",
        "colab": {
          "base_uri": "https://localhost:8080/",
          "height": 70
        },
        "outputId": "c7815476-24cb-44d1-a5a3-02be04bf4a3f"
      },
      "source": [
        "a1 = np.random.randint(-10, 10, size= 5 )\n",
        "print(a1)\n",
        "print(np.absolute(a1))\n",
        "print(np.abs(a1))"
      ],
      "execution_count": null,
      "outputs": [
        {
          "output_type": "stream",
          "text": [
            "[  2   5 -10   7  -3]\n",
            "[ 2  5 10  7  3]\n",
            "[ 2  5 10  7  3]\n"
          ],
          "name": "stdout"
        }
      ]
    },
    {
      "cell_type": "markdown",
      "metadata": {
        "id": "U5uE3sVtzRvA",
        "colab_type": "text"
      },
      "source": [
        "#### 제곱/제곱근 함수\n",
        "\n",
        "* `square`, `sqrt`: 제곱, 제곱근 함수"
      ]
    },
    {
      "cell_type": "code",
      "metadata": {
        "id": "ggnIxDGzzTfX",
        "colab_type": "code",
        "colab": {
          "base_uri": "https://localhost:8080/",
          "height": 125
        },
        "outputId": "9fed249d-173a-41e5-e0b4-d9fca4a85021"
      },
      "source": [
        "print(a1)\n",
        "print(np.square(a1))\n",
        "print(np.sqrt(a1))"
      ],
      "execution_count": null,
      "outputs": [
        {
          "output_type": "stream",
          "text": [
            "[  2   5 -10   7  -3]\n",
            "[  4  25 100  49   9]\n",
            "[1.41421356 2.23606798        nan 2.64575131        nan]\n"
          ],
          "name": "stdout"
        },
        {
          "output_type": "stream",
          "text": [
            "/usr/local/lib/python3.6/dist-packages/ipykernel_launcher.py:3: RuntimeWarning: invalid value encountered in sqrt\n",
            "  This is separate from the ipykernel package so we can avoid doing imports until\n"
          ],
          "name": "stderr"
        }
      ]
    },
    {
      "cell_type": "markdown",
      "metadata": {
        "id": "tWh1aQ50vRhB",
        "colab_type": "text"
      },
      "source": [
        "#### 지수와 로그 함수 (Exponential and Log Function)"
      ]
    },
    {
      "cell_type": "code",
      "metadata": {
        "id": "Dygt3AyHvTZz",
        "colab_type": "code",
        "colab": {
          "base_uri": "https://localhost:8080/",
          "height": 87
        },
        "outputId": "36ffc594-731f-44cd-aed6-716c29efc440"
      },
      "source": [
        "a1 = np.random.randint(1, 10 ,size = 5)\n",
        "print(a1)\n",
        "print(np.exp(a1))\n",
        "print(np.exp2(a1))\n",
        "print(np.power(a1, 2))"
      ],
      "execution_count": null,
      "outputs": [
        {
          "output_type": "stream",
          "text": [
            "[6 3 5 7 2]\n",
            "[ 403.42879349   20.08553692  148.4131591  1096.63315843    7.3890561 ]\n",
            "[ 64.   8.  32. 128.   4.]\n",
            "[36  9 25 49  4]\n"
          ],
          "name": "stdout"
        }
      ]
    },
    {
      "cell_type": "code",
      "metadata": {
        "id": "YB0BzwxDvnkT",
        "colab_type": "code",
        "colab": {
          "base_uri": "https://localhost:8080/",
          "height": 87
        },
        "outputId": "68b2ac67-4826-4690-bd54-1c64adc7f7a5"
      },
      "source": [
        "print(a1)\n",
        "print(np.log(a1))\n",
        "print(np.log2(a1))\n",
        "print(np.log10(a1))"
      ],
      "execution_count": null,
      "outputs": [
        {
          "output_type": "stream",
          "text": [
            "[6 3 5 7 2]\n",
            "[1.79175947 1.09861229 1.60943791 1.94591015 0.69314718]\n",
            "[2.5849625  1.5849625  2.32192809 2.80735492 1.        ]\n",
            "[0.77815125 0.47712125 0.69897    0.84509804 0.30103   ]\n"
          ],
          "name": "stdout"
        }
      ]
    },
    {
      "cell_type": "markdown",
      "metadata": {
        "id": "wE_p9AxjtdJ9",
        "colab_type": "text"
      },
      "source": [
        "#### 삼각 함수(Trigonometrical Function)\n"
      ]
    },
    {
      "cell_type": "code",
      "metadata": {
        "id": "6bOSPS81tuo5",
        "colab_type": "code",
        "colab": {
          "base_uri": "https://localhost:8080/",
          "height": 87
        },
        "outputId": "60033b0c-1b00-46d5-bb8c-25f66fdca383"
      },
      "source": [
        "t = np.linspace(0, np.pi, 3)\n",
        "print(t)\n",
        "print(np.sin(t))\n",
        "print(np.cos(t))\n",
        "print(np.tan(t))"
      ],
      "execution_count": null,
      "outputs": [
        {
          "output_type": "stream",
          "text": [
            "[0.         1.57079633 3.14159265]\n",
            "[0.0000000e+00 1.0000000e+00 1.2246468e-16]\n",
            "[ 1.000000e+00  6.123234e-17 -1.000000e+00]\n",
            "[ 0.00000000e+00  1.63312394e+16 -1.22464680e-16]\n"
          ],
          "name": "stdout"
        }
      ]
    },
    {
      "cell_type": "code",
      "metadata": {
        "id": "v7m-AQW9uJ9u",
        "colab_type": "code",
        "colab": {
          "base_uri": "https://localhost:8080/",
          "height": 87
        },
        "outputId": "f1380298-594f-4694-d571-4d09e93af64e"
      },
      "source": [
        "x = [-1, 0 ,1]\n",
        "print(x)\n",
        "print(np.arcsin(x))\n",
        "print(np.arccos(x))\n",
        "print(np.arctan(x))"
      ],
      "execution_count": null,
      "outputs": [
        {
          "output_type": "stream",
          "text": [
            "[-1, 0, 1]\n",
            "[-1.57079633  0.          1.57079633]\n",
            "[3.14159265 1.57079633 0.        ]\n",
            "[-0.78539816  0.          0.78539816]\n"
          ],
          "name": "stdout"
        }
      ]
    },
    {
      "cell_type": "markdown",
      "metadata": {
        "id": "hKJtYUVWwxQy",
        "colab_type": "text"
      },
      "source": [
        "### 집계 함수(Aggregate Functions)"
      ]
    },
    {
      "cell_type": "markdown",
      "metadata": {
        "id": "GdxMrX5l9m6W",
        "colab_type": "text"
      },
      "source": [
        "#### sum(): 합 계산"
      ]
    },
    {
      "cell_type": "code",
      "metadata": {
        "id": "AJQ3GjLI0cZU",
        "colab_type": "code",
        "colab": {
          "base_uri": "https://localhost:8080/",
          "height": 123
        },
        "outputId": "6dcc5c4d-c557-4801-f7f0-cfb129d9374a"
      },
      "source": [
        "a2 = np.random.randint(1, 10, (3, 3))\n",
        "print(a2)\n",
        "print(a2.sum(), np.sum(a2))\n",
        "print(a2.sum(axis = 0), np.sum(a2, axis = 0))\n",
        "print(a2.sum(axis = 1), np.sum(a2, axis = 1))\n"
      ],
      "execution_count": null,
      "outputs": [
        {
          "output_type": "stream",
          "text": [
            "[[8 5 6]\n",
            " [1 5 7]\n",
            " [7 3 8]]\n",
            "50 50\n",
            "[16 13 21] [16 13 21]\n",
            "[19 13 18] [19 13 18]\n"
          ],
          "name": "stdout"
        }
      ]
    },
    {
      "cell_type": "markdown",
      "metadata": {
        "id": "U4W4iIb9J4Zd",
        "colab_type": "text"
      },
      "source": [
        "#### cumsum(): 누적합 계산"
      ]
    },
    {
      "cell_type": "code",
      "metadata": {
        "id": "SRZWZD3UJ4wo",
        "colab_type": "code",
        "colab": {
          "base_uri": "https://localhost:8080/",
          "height": 194
        },
        "outputId": "2581384e-264e-4823-89ab-927342af43ec"
      },
      "source": [
        "print(a2)\n",
        "print(np.cumsum(a2))\n",
        "print(np.cumsum(a2, axis = 0))\n",
        "print(np.cumsum(a2, axis = 1))"
      ],
      "execution_count": null,
      "outputs": [
        {
          "output_type": "stream",
          "text": [
            "[[8 5 6]\n",
            " [1 5 7]\n",
            " [7 3 8]]\n",
            "[ 8 13 19 20 25 32 39 42 50]\n",
            "[[ 8  5  6]\n",
            " [ 9 10 13]\n",
            " [16 13 21]]\n",
            "[[ 8 13 19]\n",
            " [ 1  6 13]\n",
            " [ 7 10 18]]\n"
          ],
          "name": "stdout"
        }
      ]
    },
    {
      "cell_type": "markdown",
      "metadata": {
        "id": "pVaJRWQ-LV0f",
        "colab_type": "text"
      },
      "source": [
        "#### diff(): 차분 계산"
      ]
    },
    {
      "cell_type": "code",
      "metadata": {
        "id": "yKjnWtGVLWJj",
        "colab_type": "code",
        "colab": {
          "base_uri": "https://localhost:8080/",
          "height": 212
        },
        "outputId": "e0ba742e-1dc4-4ed9-b663-d08cc3a80a87"
      },
      "source": [
        "print(a2)\n",
        "print(np.diff(a2))\n",
        "print(np.diff(a2, axis = 0))\n",
        "print(np.diff(a2, axis = 1))"
      ],
      "execution_count": null,
      "outputs": [
        {
          "output_type": "stream",
          "text": [
            "[[8 5 6]\n",
            " [1 5 7]\n",
            " [7 3 8]]\n",
            "[[-3  1]\n",
            " [ 4  2]\n",
            " [-4  5]]\n",
            "[[-7  0  1]\n",
            " [ 6 -2  1]]\n",
            "[[-3  1]\n",
            " [ 4  2]\n",
            " [-4  5]]\n"
          ],
          "name": "stdout"
        }
      ]
    },
    {
      "cell_type": "markdown",
      "metadata": {
        "id": "b6I38HfA9vGL",
        "colab_type": "text"
      },
      "source": [
        "#### prod(): 곱 계산"
      ]
    },
    {
      "cell_type": "code",
      "metadata": {
        "id": "rGPMXGe89y0O",
        "colab_type": "code",
        "colab": {
          "base_uri": "https://localhost:8080/",
          "height": 123
        },
        "outputId": "8471cf38-d5a9-4fde-9e4e-5f4f183f8199"
      },
      "source": [
        "print(a2)\n",
        "print(np.prod(a2))\n",
        "print(np.prod(a2, axis = 0))\n",
        "print(np.prod(a2, axis = 1))"
      ],
      "execution_count": null,
      "outputs": [
        {
          "output_type": "stream",
          "text": [
            "[[8 5 6]\n",
            " [1 5 7]\n",
            " [7 3 8]]\n",
            "1411200\n",
            "[ 56  75 336]\n",
            "[240  35 168]\n"
          ],
          "name": "stdout"
        }
      ]
    },
    {
      "cell_type": "markdown",
      "metadata": {
        "id": "RwaoVUGcKkkE",
        "colab_type": "text"
      },
      "source": [
        "#### cumprod(): 누적곱 계산"
      ]
    },
    {
      "cell_type": "code",
      "metadata": {
        "id": "jwYoX9inKk4D",
        "colab_type": "code",
        "colab": {
          "base_uri": "https://localhost:8080/",
          "height": 194
        },
        "outputId": "aa6239bd-ce21-4a64-8963-5de2ff266cda"
      },
      "source": [
        "print(a2)\n",
        "print(np.cumprod(a2))\n",
        "print(np.cumprod(a2, axis = 0))\n",
        "print(np.cumprod(a2, axis = 1))"
      ],
      "execution_count": null,
      "outputs": [
        {
          "output_type": "stream",
          "text": [
            "[[8 5 6]\n",
            " [1 5 7]\n",
            " [7 3 8]]\n",
            "[      8      40     240     240    1200    8400   58800  176400 1411200]\n",
            "[[  8   5   6]\n",
            " [  8  25  42]\n",
            " [ 56  75 336]]\n",
            "[[  8  40 240]\n",
            " [  1   5  35]\n",
            " [  7  21 168]]\n"
          ],
          "name": "stdout"
        }
      ]
    },
    {
      "cell_type": "markdown",
      "metadata": {
        "id": "_LMAbL9hMV7T",
        "colab_type": "text"
      },
      "source": [
        "#### dot()/matmul(): 점곱/행렬곱 계산"
      ]
    },
    {
      "cell_type": "code",
      "metadata": {
        "id": "xC6FBzF0MWW1",
        "colab_type": "code",
        "colab": {
          "base_uri": "https://localhost:8080/",
          "height": 230
        },
        "outputId": "91da11c6-fa77-45d9-85bd-a03de9a49ebc"
      },
      "source": [
        "print(a2)\n",
        "b2 = np.ones_like(a2)\n",
        "print(b2)\n",
        "print(np.dot(a2, b2))\n",
        "print(np.matmul(a2, b2))"
      ],
      "execution_count": null,
      "outputs": [
        {
          "output_type": "stream",
          "text": [
            "[[8 5 6]\n",
            " [1 5 7]\n",
            " [7 3 8]]\n",
            "[[1 1 1]\n",
            " [1 1 1]\n",
            " [1 1 1]]\n",
            "[[19 19 19]\n",
            " [13 13 13]\n",
            " [18 18 18]]\n",
            "[[19 19 19]\n",
            " [13 13 13]\n",
            " [18 18 18]]\n"
          ],
          "name": "stdout"
        }
      ]
    },
    {
      "cell_type": "markdown",
      "metadata": {
        "id": "juVk3vnjPu31",
        "colab_type": "text"
      },
      "source": [
        "#### tensordot(): 텐서곱 계산"
      ]
    },
    {
      "cell_type": "code",
      "metadata": {
        "id": "3LrcLOcjPvNI",
        "colab_type": "code",
        "colab": {
          "base_uri": "https://localhost:8080/",
          "height": 852
        },
        "outputId": "56e99949-f9ad-4dda-da4b-22393413e47f"
      },
      "source": [
        "print(a2)\n",
        "print(b2)\n",
        "print(np.tensordot(a2,b2))\n",
        "print(np.tensordot(a2,b2,axes = 0))\n",
        "print(np.tensordot(a2,b2, axes = 1))"
      ],
      "execution_count": null,
      "outputs": [
        {
          "output_type": "stream",
          "text": [
            "[[8 5 6]\n",
            " [1 5 7]\n",
            " [7 3 8]]\n",
            "[[1 1 1]\n",
            " [1 1 1]\n",
            " [1 1 1]]\n",
            "50\n",
            "[[[[8 8 8]\n",
            "   [8 8 8]\n",
            "   [8 8 8]]\n",
            "\n",
            "  [[5 5 5]\n",
            "   [5 5 5]\n",
            "   [5 5 5]]\n",
            "\n",
            "  [[6 6 6]\n",
            "   [6 6 6]\n",
            "   [6 6 6]]]\n",
            "\n",
            "\n",
            " [[[1 1 1]\n",
            "   [1 1 1]\n",
            "   [1 1 1]]\n",
            "\n",
            "  [[5 5 5]\n",
            "   [5 5 5]\n",
            "   [5 5 5]]\n",
            "\n",
            "  [[7 7 7]\n",
            "   [7 7 7]\n",
            "   [7 7 7]]]\n",
            "\n",
            "\n",
            " [[[7 7 7]\n",
            "   [7 7 7]\n",
            "   [7 7 7]]\n",
            "\n",
            "  [[3 3 3]\n",
            "   [3 3 3]\n",
            "   [3 3 3]]\n",
            "\n",
            "  [[8 8 8]\n",
            "   [8 8 8]\n",
            "   [8 8 8]]]]\n",
            "[[19 19 19]\n",
            " [13 13 13]\n",
            " [18 18 18]]\n"
          ],
          "name": "stdout"
        }
      ]
    },
    {
      "cell_type": "markdown",
      "metadata": {
        "id": "UzmZhB5TNRMX",
        "colab_type": "text"
      },
      "source": [
        "#### cross(): 벡터곱"
      ]
    },
    {
      "cell_type": "code",
      "metadata": {
        "id": "xvT2hy1FNRkU",
        "colab_type": "code",
        "colab": {
          "base_uri": "https://localhost:8080/",
          "height": 34
        },
        "outputId": "3966796a-deba-482a-e72a-9cc726a46a2f"
      },
      "source": [
        "x = [1, 2, 3]\n",
        "y = [4, 5, 6]\n",
        "print(np.cross(x, y))"
      ],
      "execution_count": null,
      "outputs": [
        {
          "output_type": "stream",
          "text": [
            "[-3  6 -3]\n"
          ],
          "name": "stdout"
        }
      ]
    },
    {
      "cell_type": "markdown",
      "metadata": {
        "id": "SJVYmtrSO5YL",
        "colab_type": "text"
      },
      "source": [
        "#### inner()/outer(): 내적/외적"
      ]
    },
    {
      "cell_type": "code",
      "metadata": {
        "id": "HJpomax7O5s6",
        "colab_type": "code",
        "colab": {
          "base_uri": "https://localhost:8080/",
          "height": 336
        },
        "outputId": "cddef76b-ebd8-40ed-fb6b-eec74699f9c5"
      },
      "source": [
        "print(a2)\n",
        "print(b2)\n",
        "print(np.inner(a2, b2))\n",
        "print(np.outer(a2, b2))"
      ],
      "execution_count": null,
      "outputs": [
        {
          "output_type": "stream",
          "text": [
            "[[8 5 6]\n",
            " [1 5 7]\n",
            " [7 3 8]]\n",
            "[[1 1 1]\n",
            " [1 1 1]\n",
            " [1 1 1]]\n",
            "[[19 19 19]\n",
            " [13 13 13]\n",
            " [18 18 18]]\n",
            "[[8 8 8 8 8 8 8 8 8]\n",
            " [5 5 5 5 5 5 5 5 5]\n",
            " [6 6 6 6 6 6 6 6 6]\n",
            " [1 1 1 1 1 1 1 1 1]\n",
            " [5 5 5 5 5 5 5 5 5]\n",
            " [7 7 7 7 7 7 7 7 7]\n",
            " [7 7 7 7 7 7 7 7 7]\n",
            " [3 3 3 3 3 3 3 3 3]\n",
            " [8 8 8 8 8 8 8 8 8]]\n"
          ],
          "name": "stdout"
        }
      ]
    },
    {
      "cell_type": "markdown",
      "metadata": {
        "id": "9CIotQgI_RQ-",
        "colab_type": "text"
      },
      "source": [
        "#### mean(): 평균 계산"
      ]
    },
    {
      "cell_type": "code",
      "metadata": {
        "id": "g96wAEOT_bUk",
        "colab_type": "code",
        "colab": {
          "base_uri": "https://localhost:8080/",
          "height": 123
        },
        "outputId": "b26d31db-93b5-495e-eae5-5629f0f77eff"
      },
      "source": [
        "print(a2)\n",
        "print(np.mean(a2))\n",
        "print(np.mean(a2, axis = 0))\n",
        "print(np.mean(a2, axis = 1))"
      ],
      "execution_count": null,
      "outputs": [
        {
          "output_type": "stream",
          "text": [
            "[[8 5 6]\n",
            " [1 5 7]\n",
            " [7 3 8]]\n",
            "5.555555555555555\n",
            "[5.33333333 4.33333333 7.        ]\n",
            "[6.33333333 4.33333333 6.        ]\n"
          ],
          "name": "stdout"
        }
      ]
    },
    {
      "cell_type": "markdown",
      "metadata": {
        "id": "wAG_zijP_Z5o",
        "colab_type": "text"
      },
      "source": [
        "#### std(): 표준 편차 계산"
      ]
    },
    {
      "cell_type": "code",
      "metadata": {
        "id": "hlpnuyug_TXA",
        "colab_type": "code",
        "colab": {
          "base_uri": "https://localhost:8080/",
          "height": 123
        },
        "outputId": "2b18ec15-d961-459b-de59-44e2db76dd97"
      },
      "source": [
        "print(a2)\n",
        "print(np.std(a2))\n",
        "print(np.std(a2, axis = 0))\n",
        "print(np.std(a2, axis = 1))"
      ],
      "execution_count": null,
      "outputs": [
        {
          "output_type": "stream",
          "text": [
            "[[8 5 6]\n",
            " [1 5 7]\n",
            " [7 3 8]]\n",
            "2.2166597048066667\n",
            "[3.09120617 0.94280904 0.81649658]\n",
            "[1.24721913 2.49443826 2.1602469 ]\n"
          ],
          "name": "stdout"
        }
      ]
    },
    {
      "cell_type": "markdown",
      "metadata": {
        "id": "5FFTCCDaAEhx",
        "colab_type": "text"
      },
      "source": [
        "#### var(): 분산 계산"
      ]
    },
    {
      "cell_type": "code",
      "metadata": {
        "id": "CRMNkSdzAGZG",
        "colab_type": "code",
        "colab": {
          "base_uri": "https://localhost:8080/",
          "height": 123
        },
        "outputId": "a05ff86b-316c-4a8d-889d-83cae7d7f433"
      },
      "source": [
        "print(a2)\n",
        "print(np.var(a2))\n",
        "print(np.var(a2, axis = 0))\n",
        "print(np.var(a2, axis = 1))"
      ],
      "execution_count": null,
      "outputs": [
        {
          "output_type": "stream",
          "text": [
            "[[8 5 6]\n",
            " [1 5 7]\n",
            " [7 3 8]]\n",
            "4.91358024691358\n",
            "[9.55555556 0.88888889 0.66666667]\n",
            "[1.55555556 6.22222222 4.66666667]\n"
          ],
          "name": "stdout"
        }
      ]
    },
    {
      "cell_type": "markdown",
      "metadata": {
        "id": "QFeh-4tmCCrU",
        "colab_type": "text"
      },
      "source": [
        "#### min(): 최소값"
      ]
    },
    {
      "cell_type": "code",
      "metadata": {
        "id": "SMNCfYBQCEtf",
        "colab_type": "code",
        "colab": {
          "base_uri": "https://localhost:8080/",
          "height": 123
        },
        "outputId": "ecb750b5-f6c4-4b61-da63-a55350eeffb9"
      },
      "source": [
        "print(a2)\n",
        "print(np.min(a2))\n",
        "print(np.min(a2, axis = 0))\n",
        "print(np.min(a2, axis = 1))"
      ],
      "execution_count": null,
      "outputs": [
        {
          "output_type": "stream",
          "text": [
            "[[8 5 6]\n",
            " [1 5 7]\n",
            " [7 3 8]]\n",
            "1\n",
            "[1 3 6]\n",
            "[5 1 3]\n"
          ],
          "name": "stdout"
        }
      ]
    },
    {
      "cell_type": "markdown",
      "metadata": {
        "id": "A3n_JBnBJ2bo",
        "colab_type": "text"
      },
      "source": [
        "#### max(): 최대값"
      ]
    },
    {
      "cell_type": "code",
      "metadata": {
        "id": "FmuOFKGAJ6Pf",
        "colab_type": "code",
        "colab": {
          "base_uri": "https://localhost:8080/",
          "height": 123
        },
        "outputId": "9045ca27-53c6-442a-eae2-a8e92a65f9be"
      },
      "source": [
        "print(a2)\n",
        "print(np.max(a2))\n",
        "print(np.max(a2, axis = 0))\n",
        "print(np.max(a2, axis = 1))"
      ],
      "execution_count": null,
      "outputs": [
        {
          "output_type": "stream",
          "text": [
            "[[8 5 6]\n",
            " [1 5 7]\n",
            " [7 3 8]]\n",
            "8\n",
            "[8 5 8]\n",
            "[8 7 8]\n"
          ],
          "name": "stdout"
        }
      ]
    },
    {
      "cell_type": "markdown",
      "metadata": {
        "id": "PvGOKDP0J_5b",
        "colab_type": "text"
      },
      "source": [
        "#### argmin(): 최소값 인덱스"
      ]
    },
    {
      "cell_type": "code",
      "metadata": {
        "id": "1ILP7L3yKCqA",
        "colab_type": "code",
        "colab": {
          "base_uri": "https://localhost:8080/",
          "height": 123
        },
        "outputId": "25eda90d-c4a5-48b5-ed60-3b571aac12e7"
      },
      "source": [
        "print(a2)\n",
        "print(np.argmin(a2))\n",
        "print(np.argmin(a2, axis = 0))\n",
        "print(np.argmin(a2, axis = 1))"
      ],
      "execution_count": null,
      "outputs": [
        {
          "output_type": "stream",
          "text": [
            "[[8 5 6]\n",
            " [1 5 7]\n",
            " [7 3 8]]\n",
            "3\n",
            "[1 2 0]\n",
            "[1 0 1]\n"
          ],
          "name": "stdout"
        }
      ]
    },
    {
      "cell_type": "markdown",
      "metadata": {
        "id": "23IcSctIKbUa",
        "colab_type": "text"
      },
      "source": [
        "#### argmax(): 최대값 인덱스"
      ]
    },
    {
      "cell_type": "code",
      "metadata": {
        "id": "2m21cfCFKd-Q",
        "colab_type": "code",
        "colab": {
          "base_uri": "https://localhost:8080/",
          "height": 123
        },
        "outputId": "41f64842-7ed4-447d-9959-9add6f9c00ac"
      },
      "source": [
        "print(a2)\n",
        "print(np.argmax(a2))\n",
        "print(np.argmax(a2, axis = 0))\n",
        "print(np.argmax(a2, axis = 1))"
      ],
      "execution_count": null,
      "outputs": [
        {
          "output_type": "stream",
          "text": [
            "[[8 5 6]\n",
            " [1 5 7]\n",
            " [7 3 8]]\n",
            "0\n",
            "[0 0 2]\n",
            "[0 2 2]\n"
          ],
          "name": "stdout"
        }
      ]
    },
    {
      "cell_type": "markdown",
      "metadata": {
        "id": "3TjeNFQLKuZb",
        "colab_type": "text"
      },
      "source": [
        "#### median(): 중앙값"
      ]
    },
    {
      "cell_type": "code",
      "metadata": {
        "id": "kSLN17bpKwv6",
        "colab_type": "code",
        "colab": {
          "base_uri": "https://localhost:8080/",
          "height": 123
        },
        "outputId": "2fd74aa4-608d-4739-c4c1-743f07e5b64b"
      },
      "source": [
        "print(a2)\n",
        "print(np.mean(a2))\n",
        "print(np.mean(a2, axis = 0))\n",
        "print(np.mean(a2, axis = 1))"
      ],
      "execution_count": null,
      "outputs": [
        {
          "output_type": "stream",
          "text": [
            "[[8 5 6]\n",
            " [1 5 7]\n",
            " [7 3 8]]\n",
            "5.555555555555555\n",
            "[5.33333333 4.33333333 7.        ]\n",
            "[6.33333333 4.33333333 6.        ]\n"
          ],
          "name": "stdout"
        }
      ]
    },
    {
      "cell_type": "markdown",
      "metadata": {
        "id": "df-Id-nhLs3L",
        "colab_type": "text"
      },
      "source": [
        "#### percentile(): 백분위 수\n",
        "\n"
      ]
    },
    {
      "cell_type": "code",
      "metadata": {
        "id": "N-TCx9hnLvhK",
        "colab_type": "code",
        "colab": {
          "base_uri": "https://localhost:8080/",
          "height": 123
        },
        "outputId": "67b4b35b-7d6c-4a5a-d8b4-fa300332fc28"
      },
      "source": [
        "a1 = np.array([0, 1, 2, 3])\n",
        "print(a1)\n",
        "print(np.percentile(a1, [0,20 ,40, 60, 80 ,100], interpolation= 'linear'))\n",
        "print(np.percentile(a1, [0,20 ,40, 60, 80 ,100], interpolation= 'higher'))\n",
        "print(np.percentile(a1, [0,20 ,40, 60, 80 ,100], interpolation= 'lower'))\n",
        "print(np.percentile(a1, [0,20 ,40, 60, 80 ,100], interpolation= 'nearest'))\n",
        "print(np.percentile(a1, [0,20 ,40, 60, 80 ,100], interpolation= 'midpoint'))"
      ],
      "execution_count": null,
      "outputs": [
        {
          "output_type": "stream",
          "text": [
            "[0 1 2 3]\n",
            "[0.  0.6 1.2 1.8 2.4 3. ]\n",
            "[0 1 2 2 3 3]\n",
            "[0 0 1 1 2 3]\n",
            "[0 1 1 2 2 3]\n",
            "[0.  0.5 1.5 1.5 2.5 3. ]\n"
          ],
          "name": "stdout"
        }
      ]
    },
    {
      "cell_type": "markdown",
      "metadata": {
        "id": "x0NnNsvvNDIs",
        "colab_type": "text"
      },
      "source": [
        "#### any()"
      ]
    },
    {
      "cell_type": "code",
      "metadata": {
        "id": "I1XDqsFxOMvA",
        "colab_type": "code",
        "colab": {
          "base_uri": "https://localhost:8080/",
          "height": 123
        },
        "outputId": "de95150b-779c-41c0-a700-a0ca3e32effa"
      },
      "source": [
        "a2 = np.array([[False, False, True],\n",
        "              [False, True, True],\n",
        "              [False, True, True]])\n",
        "print(a2)\n",
        "print(np.any(a2))\n",
        "print(np.any(a2, axis = 0))\n",
        "print(np.any(a2, axis = 1))"
      ],
      "execution_count": null,
      "outputs": [
        {
          "output_type": "stream",
          "text": [
            "[[False False  True]\n",
            " [False  True  True]\n",
            " [False  True  True]]\n",
            "True\n",
            "[False  True  True]\n",
            "[ True  True  True]\n"
          ],
          "name": "stdout"
        }
      ]
    },
    {
      "cell_type": "markdown",
      "metadata": {
        "id": "Uw-wjYgyONBZ",
        "colab_type": "text"
      },
      "source": [
        "#### all()"
      ]
    },
    {
      "cell_type": "code",
      "metadata": {
        "id": "sXi2AHOHONYq",
        "colab_type": "code",
        "colab": {
          "base_uri": "https://localhost:8080/",
          "height": 123
        },
        "outputId": "3107264a-5362-4e4e-b463-f9ac101a0d15"
      },
      "source": [
        "a2 = np.array([[False, False, True],\n",
        "              [False, True, True],\n",
        "              [False, True, True]])\n",
        "print(a2)\n",
        "print(np.all(a2))\n",
        "print(np.all(a2, axis = 0))\n",
        "print(np.all(a2, axis = 1))"
      ],
      "execution_count": null,
      "outputs": [
        {
          "output_type": "stream",
          "text": [
            "[[False False  True]\n",
            " [False  True  True]\n",
            " [False  True  True]]\n",
            "False\n",
            "[False False  True]\n",
            "[False False False]\n"
          ],
          "name": "stdout"
        }
      ]
    },
    {
      "cell_type": "markdown",
      "metadata": {
        "id": "0n7lgzmUwqr1",
        "colab_type": "text"
      },
      "source": [
        "### 비교 연산(Comparison Operators)\n"
      ]
    },
    {
      "cell_type": "code",
      "metadata": {
        "id": "E00V-nBTVnCu",
        "colab_type": "code",
        "colab": {
          "base_uri": "https://localhost:8080/",
          "height": 141
        },
        "outputId": "bdd8e350-822d-426b-ec89-0f33fe17f7e7"
      },
      "source": [
        "a1 = np.arange(1, 10)\n",
        "print(a1)\n",
        "print(a1 == 5)\n",
        "print(a1 != 5)\n",
        "print(a1 < 5)\n",
        "print(a1 <= 5)\n",
        "print(a1 > 5)\n",
        "print(a1 >= 5)"
      ],
      "execution_count": null,
      "outputs": [
        {
          "output_type": "stream",
          "text": [
            "[1 2 3 4 5 6 7 8 9]\n",
            "[False False False False  True False False False False]\n",
            "[ True  True  True  True False  True  True  True  True]\n",
            "[ True  True  True  True False False False False False]\n",
            "[ True  True  True  True  True False False False False]\n",
            "[False False False False False  True  True  True  True]\n",
            "[False False False False  True  True  True  True  True]\n"
          ],
          "name": "stdout"
        }
      ]
    },
    {
      "cell_type": "code",
      "metadata": {
        "id": "3MwV1CU1WsWS",
        "colab_type": "code",
        "colab": {
          "base_uri": "https://localhost:8080/",
          "height": 265
        },
        "outputId": "9c16c077-a21b-42f2-881f-24523d399ea6"
      },
      "source": [
        "a2 = np.arange(1, 10).reshape(3, 3)\n",
        "print(a2)\n",
        "print(np.sum(a2))\n",
        "print(np.count_nonzero(a2 > 5))\n",
        "print(np.sum(a2 > 5))\n",
        "print(np.sum(a2 > 5, axis = 0))\n",
        "print(np.sum(a2 > 5, axis = 1))\n",
        "print(np.any(a2 > 5))\n",
        "print(np.any(a2 > 5,axis = 0))\n",
        "print(np.any(a2 > 5, axis = 1))\n",
        "\n",
        "print(np.all(a2 > 5))\n",
        "print(np.all(a2 > 5, axis = 0))\n",
        "print(np.all(a2 > 5, axis = 1))"
      ],
      "execution_count": null,
      "outputs": [
        {
          "output_type": "stream",
          "text": [
            "[[1 2 3]\n",
            " [4 5 6]\n",
            " [7 8 9]]\n",
            "45\n",
            "4\n",
            "4\n",
            "[1 1 2]\n",
            "[0 1 3]\n",
            "True\n",
            "[ True  True  True]\n",
            "[False  True  True]\n",
            "False\n",
            "[False False False]\n",
            "[False False  True]\n"
          ],
          "name": "stdout"
        }
      ]
    },
    {
      "cell_type": "code",
      "metadata": {
        "id": "D4cuMoyEPn8R",
        "colab_type": "code",
        "colab": {
          "base_uri": "https://localhost:8080/",
          "height": 70
        },
        "outputId": "3c009bcb-c2be-4a27-8c2f-120f749e8a1a"
      },
      "source": [
        "a1 = np.array([1, 2, 3, 4, 5])\n",
        "print(a1)\n",
        "b1 = np.array([1, 2, 3, 3, 3])\n",
        "print(b1)\n",
        "print(np.isclose(a1, b1))"
      ],
      "execution_count": null,
      "outputs": [
        {
          "output_type": "stream",
          "text": [
            "[1 2 3 4 5]\n",
            "[1 2 3 3 3]\n",
            "[ True  True  True False False]\n"
          ],
          "name": "stdout"
        }
      ]
    },
    {
      "cell_type": "code",
      "metadata": {
        "id": "af9VSc6FyMBh",
        "colab_type": "code",
        "colab": {
          "base_uri": "https://localhost:8080/",
          "height": 87
        },
        "outputId": "9eae68e8-f260-417c-b3fd-9d6909a67523"
      },
      "source": [
        "a1 = np.array([np.nan, 2, np.inf, 4, np.NINF])\n",
        "print(a1)\n",
        "print(np.isnan(a1))\n",
        "print(np.isinf(a1))\n",
        "print(np.isfinite(a1))"
      ],
      "execution_count": null,
      "outputs": [
        {
          "output_type": "stream",
          "text": [
            "[ nan   2.  inf   4. -inf]\n",
            "[ True False False False False]\n",
            "[False False  True False  True]\n",
            "[False  True False  True False]\n"
          ],
          "name": "stdout"
        }
      ]
    },
    {
      "cell_type": "markdown",
      "metadata": {
        "id": "4BHMetMlYmt-",
        "colab_type": "text"
      },
      "source": [
        "#### 불리언 연산자(Boolean Operators)\n"
      ]
    },
    {
      "cell_type": "code",
      "metadata": {
        "id": "ZV1-8DkUHOZq",
        "colab_type": "code",
        "colab": {
          "base_uri": "https://localhost:8080/",
          "height": 354
        },
        "outputId": "d6378f33-d9f5-4233-8021-c40c65fca5d8"
      },
      "source": [
        "a2 = np.arange(1, 10).reshape(3, 3)\n",
        "print(a2)\n",
        "\n",
        "print((a2 > 5) & (a2 < 8))\n",
        "print(a2[(a2 > 5) & (a2 < 8)])\n",
        "\n",
        "print((a2 > 5) | (a2 < 8))\n",
        "print(a2[(a2 > 5) | (a2 < 8)])\n",
        "\n",
        "print((a2 > 5) ^ (a2 < 8))\n",
        "print(a2[(a2 > 5) ^ (a2 < 8)])\n",
        "\n",
        "print(~(a2>5))\n",
        "print(a2[~(a2 > 5)])"
      ],
      "execution_count": null,
      "outputs": [
        {
          "output_type": "stream",
          "text": [
            "[[1 2 3]\n",
            " [4 5 6]\n",
            " [7 8 9]]\n",
            "[[False False False]\n",
            " [False False  True]\n",
            " [ True False False]]\n",
            "[6 7]\n",
            "[[ True  True  True]\n",
            " [ True  True  True]\n",
            " [ True  True  True]]\n",
            "[1 2 3 4 5 6 7 8 9]\n",
            "[[ True  True  True]\n",
            " [ True  True False]\n",
            " [False  True  True]]\n",
            "[1 2 3 4 5 8 9]\n",
            "[[ True  True  True]\n",
            " [ True  True False]\n",
            " [False False False]]\n",
            "[1 2 3 4 5]\n"
          ],
          "name": "stdout"
        }
      ]
    },
    {
      "cell_type": "markdown",
      "metadata": {
        "id": "FlQJVeGBxIFw",
        "colab_type": "text"
      },
      "source": [
        "### 배열 정렬"
      ]
    },
    {
      "cell_type": "code",
      "metadata": {
        "id": "x0sodUMqLU37",
        "colab_type": "code",
        "colab": {
          "base_uri": "https://localhost:8080/",
          "height": 141
        },
        "outputId": "f4169194-e13a-4d2d-e478-7b3fc887ca29"
      },
      "source": [
        "a1 = np.random.randint(1, 10, size = 10)\n",
        "print(a1)\n",
        "print(np.sort(a1))\n",
        "print(a1)\n",
        "print(np.argsort(a1))\n",
        "print(a1)\n",
        "print(a1.sort())\n",
        "print(a1)"
      ],
      "execution_count": null,
      "outputs": [
        {
          "output_type": "stream",
          "text": [
            "[2 2 4 8 8 4 2 2 3 5]\n",
            "[2 2 2 2 3 4 4 5 8 8]\n",
            "[2 2 4 8 8 4 2 2 3 5]\n",
            "[0 1 6 7 8 2 5 9 3 4]\n",
            "[2 2 4 8 8 4 2 2 3 5]\n",
            "None\n",
            "[2 2 2 2 3 4 4 5 8 8]\n"
          ],
          "name": "stdout"
        }
      ]
    },
    {
      "cell_type": "code",
      "metadata": {
        "id": "FO_sO5POzeMp",
        "colab_type": "code",
        "colab": {
          "base_uri": "https://localhost:8080/",
          "height": 176
        },
        "outputId": "b2f3259b-050a-4ba6-cb7f-abd7ea06255f"
      },
      "source": [
        "a2 = np.random.randint(1, 10, size= (3, 3))\n",
        "print(a2)\n",
        "print(np.sort(a2, axis = 0))\n",
        "print(np.sort(a2, axis = 1))"
      ],
      "execution_count": null,
      "outputs": [
        {
          "output_type": "stream",
          "text": [
            "[[6 5 2]\n",
            " [6 1 1]\n",
            " [7 7 4]]\n",
            "[[6 1 1]\n",
            " [6 5 2]\n",
            " [7 7 4]]\n",
            "[[2 5 6]\n",
            " [1 1 6]\n",
            " [4 7 7]]\n"
          ],
          "name": "stdout"
        }
      ]
    },
    {
      "cell_type": "markdown",
      "metadata": {
        "id": "yYSItPz_00sZ",
        "colab_type": "text"
      },
      "source": [
        "#### 부분 정렬\n",
        "\n",
        "* `partition()`: 배열에서 k개의 작은 값을 반환"
      ]
    },
    {
      "cell_type": "code",
      "metadata": {
        "id": "QQwov4N00YFP",
        "colab_type": "code",
        "colab": {
          "base_uri": "https://localhost:8080/",
          "height": 52
        },
        "outputId": "43c65355-4844-4fdf-cf2c-a728ccc7b831"
      },
      "source": [
        "a1 = np.random.randint(1, 10, size = 10)\n",
        "print(a1)\n",
        "print(np.partition(a1, 3))"
      ],
      "execution_count": null,
      "outputs": [
        {
          "output_type": "stream",
          "text": [
            "[6 7 7 7 7 4 4 6 4 3]\n",
            "[3 4 4 4 6 6 7 7 7 7]\n"
          ],
          "name": "stdout"
        }
      ]
    },
    {
      "cell_type": "code",
      "metadata": {
        "id": "sOO0U4f_LQd9",
        "colab_type": "code",
        "colab": {
          "base_uri": "https://localhost:8080/",
          "height": 372
        },
        "outputId": "cd8d78e0-d7ef-406f-c113-7b3959c57750"
      },
      "source": [
        "a2 = np.random.randint(1, 10, size= (5,5))\n",
        "print(a2)\n",
        "print(np.partition(a2, 3))\n",
        "print(np.partition(a2, 3, axis = 0))\n",
        "print(np.partition(a2, 3, axis = 1))"
      ],
      "execution_count": null,
      "outputs": [
        {
          "output_type": "stream",
          "text": [
            "[[1 6 7 7 3]\n",
            " [1 6 1 6 8]\n",
            " [5 7 7 6 6]\n",
            " [6 6 6 9 2]\n",
            " [8 4 9 8 7]]\n",
            "[[1 3 6 7 7]\n",
            " [1 1 6 6 8]\n",
            " [6 5 6 7 7]\n",
            " [2 6 6 6 9]\n",
            " [4 7 8 8 9]]\n",
            "[[1 6 6 6 2]\n",
            " [1 4 7 6 3]\n",
            " [5 6 1 7 6]\n",
            " [6 6 7 8 7]\n",
            " [8 7 9 9 8]]\n",
            "[[1 3 6 7 7]\n",
            " [1 1 6 6 8]\n",
            " [6 5 6 7 7]\n",
            " [2 6 6 6 9]\n",
            " [4 7 8 8 9]]\n"
          ],
          "name": "stdout"
        }
      ]
    },
    {
      "cell_type": "markdown",
      "metadata": {
        "id": "77DSA72ML5cI",
        "colab_type": "text"
      },
      "source": [
        "## 배열 입출력\n"
      ]
    },
    {
      "cell_type": "code",
      "metadata": {
        "id": "da-Mm_gzIs7U",
        "colab_type": "code",
        "colab": {
          "base_uri": "https://localhost:8080/",
          "height": 105
        },
        "outputId": "b0d1e1ab-e43e-41cf-f14e-4cabf7acad38"
      },
      "source": [
        "a2 = np.random.randint(1, 10, size = (5, 5))\n",
        "print(a2)\n",
        "np.save(\"a\", a2)"
      ],
      "execution_count": null,
      "outputs": [
        {
          "output_type": "stream",
          "text": [
            "[[8 2 8 7 5]\n",
            " [3 7 6 2 7]\n",
            " [8 3 4 7 3]\n",
            " [9 2 8 3 6]\n",
            " [6 8 8 1 2]]\n"
          ],
          "name": "stdout"
        }
      ]
    },
    {
      "cell_type": "code",
      "metadata": {
        "id": "pFOWyDvAsf11",
        "colab_type": "code",
        "colab": {
          "base_uri": "https://localhost:8080/",
          "height": 34
        },
        "outputId": "6501b1ba-69a5-4d5d-f841-c1ee8a0fd38b"
      },
      "source": [
        "!ls"
      ],
      "execution_count": null,
      "outputs": [
        {
          "output_type": "stream",
          "text": [
            "a.npy  sample_data\n"
          ],
          "name": "stdout"
        }
      ]
    },
    {
      "cell_type": "code",
      "metadata": {
        "id": "Hvb_ilyisoIV",
        "colab_type": "code",
        "colab": {
          "base_uri": "https://localhost:8080/",
          "height": 105
        },
        "outputId": "058315c8-c767-422b-e3e3-0cacd8d5f353"
      },
      "source": [
        "b2 = np.random.randint(1, 10, size=(5, 5))\n",
        "print(b2)\n",
        "np.savez(\"ab\", a2, b2)"
      ],
      "execution_count": null,
      "outputs": [
        {
          "output_type": "stream",
          "text": [
            "[[3 7 6 8 5]\n",
            " [7 9 2 7 2]\n",
            " [1 4 3 7 7]\n",
            " [8 9 8 8 3]\n",
            " [4 1 8 6 4]]\n"
          ],
          "name": "stdout"
        }
      ]
    },
    {
      "cell_type": "code",
      "metadata": {
        "id": "ArWZfL31s1wU",
        "colab_type": "code",
        "colab": {
          "base_uri": "https://localhost:8080/",
          "height": 34
        },
        "outputId": "bf364ad3-196c-4c54-a2e2-cb1f43278d61"
      },
      "source": [
        "!ls"
      ],
      "execution_count": null,
      "outputs": [
        {
          "output_type": "stream",
          "text": [
            "ab.npz\ta.npy  sample_data\n"
          ],
          "name": "stdout"
        }
      ]
    },
    {
      "cell_type": "code",
      "metadata": {
        "id": "che4cEJEs2Tr",
        "colab_type": "code",
        "colab": {
          "base_uri": "https://localhost:8080/",
          "height": 105
        },
        "outputId": "14750f99-8093-479c-8ae1-f7319a00181b"
      },
      "source": [
        "npy = np.load(\"a.npy\")\n",
        "print(npy)"
      ],
      "execution_count": null,
      "outputs": [
        {
          "output_type": "stream",
          "text": [
            "[[8 2 8 7 5]\n",
            " [3 7 6 2 7]\n",
            " [8 3 4 7 3]\n",
            " [9 2 8 3 6]\n",
            " [6 8 8 1 2]]\n"
          ],
          "name": "stdout"
        }
      ]
    },
    {
      "cell_type": "code",
      "metadata": {
        "id": "X2yIUsYvtMj6",
        "colab_type": "code",
        "colab": {
          "base_uri": "https://localhost:8080/",
          "height": 212
        },
        "outputId": "cb505ef9-980b-4752-df04-225091088b17"
      },
      "source": [
        "npz = np.load(\"ab.npz\")\n",
        "print(npz.files)\n",
        "print(npz['arr_0'])\n",
        "print(npz['arr_1'])"
      ],
      "execution_count": null,
      "outputs": [
        {
          "output_type": "stream",
          "text": [
            "['arr_0', 'arr_1']\n",
            "[[8 2 8 7 5]\n",
            " [3 7 6 2 7]\n",
            " [8 3 4 7 3]\n",
            " [9 2 8 3 6]\n",
            " [6 8 8 1 2]]\n",
            "[[3 7 6 8 5]\n",
            " [7 9 2 7 2]\n",
            " [1 4 3 7 7]\n",
            " [8 9 8 8 3]\n",
            " [4 1 8 6 4]]\n"
          ],
          "name": "stdout"
        }
      ]
    },
    {
      "cell_type": "code",
      "metadata": {
        "id": "Yj5ec-CYtaH1",
        "colab_type": "code",
        "colab": {
          "base_uri": "https://localhost:8080/",
          "height": 105
        },
        "outputId": "b3e292a8-2a05-4306-f110-1364bafe2627"
      },
      "source": [
        "print(a2)\n",
        "np.savetxt(\"a.csv\", a2, delimiter = ',')"
      ],
      "execution_count": null,
      "outputs": [
        {
          "output_type": "stream",
          "text": [
            "[[8 2 8 7 5]\n",
            " [3 7 6 2 7]\n",
            " [8 3 4 7 3]\n",
            " [9 2 8 3 6]\n",
            " [6 8 8 1 2]]\n"
          ],
          "name": "stdout"
        }
      ]
    },
    {
      "cell_type": "code",
      "metadata": {
        "id": "_NIDrc-VuPmv",
        "colab_type": "code",
        "colab": {
          "base_uri": "https://localhost:8080/",
          "height": 34
        },
        "outputId": "a686b852-df2c-44c2-e5b2-1b797c6b5328"
      },
      "source": [
        "!ls"
      ],
      "execution_count": null,
      "outputs": [
        {
          "output_type": "stream",
          "text": [
            "ab.npz\ta.csv  a.npy  sample_data\n"
          ],
          "name": "stdout"
        }
      ]
    },
    {
      "cell_type": "code",
      "metadata": {
        "id": "bPhmIoVBuQMf",
        "colab_type": "code",
        "colab": {
          "base_uri": "https://localhost:8080/",
          "height": 125
        },
        "outputId": "93ceeff1-abf6-425b-e439-84920f71fa7e"
      },
      "source": [
        "!cat a.csv"
      ],
      "execution_count": null,
      "outputs": [
        {
          "output_type": "stream",
          "text": [
            "8.000000000000000000e+00,2.000000000000000000e+00,8.000000000000000000e+00,7.000000000000000000e+00,5.000000000000000000e+00\n",
            "3.000000000000000000e+00,7.000000000000000000e+00,6.000000000000000000e+00,2.000000000000000000e+00,7.000000000000000000e+00\n",
            "8.000000000000000000e+00,3.000000000000000000e+00,4.000000000000000000e+00,7.000000000000000000e+00,3.000000000000000000e+00\n",
            "9.000000000000000000e+00,2.000000000000000000e+00,8.000000000000000000e+00,3.000000000000000000e+00,6.000000000000000000e+00\n",
            "6.000000000000000000e+00,8.000000000000000000e+00,8.000000000000000000e+00,1.000000000000000000e+00,2.000000000000000000e+00\n"
          ],
          "name": "stdout"
        }
      ]
    },
    {
      "cell_type": "code",
      "metadata": {
        "id": "FeB2p4azuTDv",
        "colab_type": "code",
        "colab": {
          "base_uri": "https://localhost:8080/",
          "height": 105
        },
        "outputId": "91daca63-2cf3-4c6b-942e-3dfe155ebcbc"
      },
      "source": [
        "csv = np.loadtxt(\"a.csv\", delimiter = ',')\n",
        "print(csv)"
      ],
      "execution_count": null,
      "outputs": [
        {
          "output_type": "stream",
          "text": [
            "[[8. 2. 8. 7. 5.]\n",
            " [3. 7. 6. 2. 7.]\n",
            " [8. 3. 4. 7. 3.]\n",
            " [9. 2. 8. 3. 6.]\n",
            " [6. 8. 8. 1. 2.]]\n"
          ],
          "name": "stdout"
        }
      ]
    },
    {
      "cell_type": "code",
      "metadata": {
        "id": "IUg8Vg4fuxR5",
        "colab_type": "code",
        "colab": {
          "base_uri": "https://localhost:8080/",
          "height": 105
        },
        "outputId": "36b6c76c-beda-4ef8-ec6a-b8087cb51c31"
      },
      "source": [
        "print(b2)\n",
        "np.savetxt(\"b.csv\", b2, delimiter = ',', fmt=\"%.2e\", header = 'c1, c2, c3, c4, c5')"
      ],
      "execution_count": null,
      "outputs": [
        {
          "output_type": "stream",
          "text": [
            "[[3 7 6 8 5]\n",
            " [7 9 2 7 2]\n",
            " [1 4 3 7 7]\n",
            " [8 9 8 8 3]\n",
            " [4 1 8 6 4]]\n"
          ],
          "name": "stdout"
        }
      ]
    },
    {
      "cell_type": "code",
      "metadata": {
        "id": "lIK5dSv6vtm2",
        "colab_type": "code",
        "colab": {
          "base_uri": "https://localhost:8080/",
          "height": 123
        },
        "outputId": "d7468fa0-576e-4f7a-a2c6-a19ff40928fb"
      },
      "source": [
        "!cat b.csv"
      ],
      "execution_count": null,
      "outputs": [
        {
          "output_type": "stream",
          "text": [
            "# c1, c2, c3, c4, c5\n",
            "3.00e+00,7.00e+00,6.00e+00,8.00e+00,5.00e+00\n",
            "7.00e+00,9.00e+00,2.00e+00,7.00e+00,2.00e+00\n",
            "1.00e+00,4.00e+00,3.00e+00,7.00e+00,7.00e+00\n",
            "8.00e+00,9.00e+00,8.00e+00,8.00e+00,3.00e+00\n",
            "4.00e+00,1.00e+00,8.00e+00,6.00e+00,4.00e+00\n"
          ],
          "name": "stdout"
        }
      ]
    },
    {
      "cell_type": "code",
      "metadata": {
        "id": "l4O-gVxdv8-d",
        "colab_type": "code",
        "colab": {
          "base_uri": "https://localhost:8080/",
          "height": 105
        },
        "outputId": "93e58550-5096-4b84-ff3c-26dc1e1dc47d"
      },
      "source": [
        "csv = np.loadtxt(\"b.csv\", delimiter = ',')\n",
        "print(csv)"
      ],
      "execution_count": null,
      "outputs": [
        {
          "output_type": "stream",
          "text": [
            "[[3. 7. 6. 8. 5.]\n",
            " [7. 9. 2. 7. 2.]\n",
            " [1. 4. 3. 7. 7.]\n",
            " [8. 9. 8. 8. 3.]\n",
            " [4. 1. 8. 6. 4.]]\n"
          ],
          "name": "stdout"
        }
      ]
    },
    {
      "cell_type": "markdown",
      "metadata": {
        "id": "JM2Ghx2NGloN",
        "colab_type": "text"
      },
      "source": [
        "\n",
        "\n",
        "---\n",
        "\n"
      ]
    }
  ]
}